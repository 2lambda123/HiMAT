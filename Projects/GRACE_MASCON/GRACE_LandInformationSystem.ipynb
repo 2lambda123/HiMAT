{
 "cells": [
  {
   "cell_type": "markdown",
   "metadata": {},
   "source": [
    "# Working with GRACE to build a mask and calculate water balance\n",
    "\n",
    "by Anthony Arendt and Landung Setiawan\n",
    "\n",
    "Datasets:\n",
    "- GRACE: https://ssed.gsfc.nasa.gov/grace/products.html\n",
    "- LIS: https://github.com/NASA-Planetary-Science/HiMAT/tree/master/Projects/LIS\n",
    "\n",
    "This is a continuation to the LIS Dataset processing workflow. [<<](../LIS/)\n",
    "\n",
    "This code is designed to access files directly on the NASA ADAPT system"
   ]
  },
  {
   "cell_type": "code",
   "execution_count": 1,
   "metadata": {},
   "outputs": [
    {
     "name": "stderr",
     "output_type": "stream",
     "text": [
      "/opt/conda/lib/python3.6/importlib/_bootstrap.py:219: RuntimeWarning: numpy.dtype size changed, may indicate binary incompatibility. Expected 96, got 88\n",
      "  return f(*args, **kwds)\n"
     ]
    }
   ],
   "source": [
    "# Import the necessary libraries\n",
    "%matplotlib inline\n",
    "\n",
    "import os\n",
    "import pickle\n",
    "\n",
    "from dask import compute\n",
    "from distributed import Client\n",
    "from himatpy.GRACE_MASCON.pygrace import (extract_grace, get_mascon_gdf, get_cmwe_trend_analysis, build_mask)\n",
    "from himatpy.LIS import utils\n",
    "from himatpy.tools import animation_tools\n",
    "import geopandas as gpd\n",
    "import matplotlib\n",
    "import matplotlib.pyplot as plt\n",
    "import numpy as np\n",
    "import pandas as pd\n",
    "import s3fs\n",
    "import xarray as xr\n",
    "import zarr\n",
    "\n",
    "matplotlib.style.use('ggplot')"
   ]
  },
  {
   "cell_type": "markdown",
   "metadata": {},
   "source": [
    "## Get GRACE Data"
   ]
  },
  {
   "cell_type": "code",
   "execution_count": 2,
   "metadata": {
    "scrolled": true
   },
   "outputs": [
    {
     "name": "stdout",
     "output_type": "stream",
     "text": [
      "Data extracted: \n",
      "---\n",
      "Group: mascon\n",
      "---\n",
      "<HDF5 dataset \"area_deg\": shape (1, 41168), type \"<f8\">\n",
      "<HDF5 dataset \"area_km2\": shape (1, 41168), type \"<f8\">\n",
      "<HDF5 dataset \"basin\": shape (1, 41168), type \"<f8\">\n",
      "<HDF5 dataset \"elev_flag\": shape (1, 41168), type \"<f8\">\n",
      "<HDF5 dataset \"lat_center\": shape (1, 41168), type \"<f8\">\n",
      "<HDF5 dataset \"lat_span\": shape (1, 41168), type \"<f8\">\n",
      "<HDF5 dataset \"location\": shape (1, 41168), type \"<f8\">\n",
      "<HDF5 dataset \"lon_center\": shape (1, 41168), type \"<f8\">\n",
      "<HDF5 dataset \"lon_span\": shape (1, 41168), type \"<f8\">\n",
      "---\n",
      "Group: size\n",
      "---\n",
      "<HDF5 dataset \"N_arcs\": shape (1, 1), type \"<f8\">\n",
      "<HDF5 dataset \"N_mascon_times\": shape (1, 1), type \"<f8\">\n",
      "<HDF5 dataset \"N_mascons\": shape (1, 1), type \"<f8\">\n",
      "---\n",
      "Group: solution\n",
      "---\n",
      "<HDF5 dataset \"cmwe\": shape (41168, 148), type \"<f8\">\n",
      "---\n",
      "Group: time\n",
      "---\n",
      "<HDF5 dataset \"list_ref_days_solution\": shape (1, 4128), type \"<f8\">\n",
      "<HDF5 dataset \"n_ref_days_solution\": shape (1, 148), type \"<f8\">\n",
      "<HDF5 dataset \"n_ref_days_window\": shape (1, 148), type \"<f8\">\n",
      "<HDF5 dataset \"ref_days_first\": shape (1, 148), type \"<f8\">\n",
      "<HDF5 dataset \"ref_days_last\": shape (1, 148), type \"<f8\">\n",
      "<HDF5 dataset \"ref_days_middle\": shape (1, 148), type \"<f8\">\n",
      "<HDF5 dataset \"yyyy_doy_yrplot_middle\": shape (3, 148), type \"<f8\">\n",
      "---\n",
      "Group: uncertainty\n",
      "---\n",
      "<HDF5 dataset \"leakage_2sigma\": shape (41168, 148), type \"<f8\">\n",
      "<HDF5 dataset \"leakage_trend\": shape (41168, 148), type \"<f8\">\n",
      "<HDF5 dataset \"noise_2sigma\": shape (41168, 148), type \"<f8\">\n"
     ]
    }
   ],
   "source": [
    "# Read in mascon file\n",
    "grace_file = os.path.abspath('GSFC.h5')\n",
    "\n",
    "try:\n",
    "    f = extract_grace(grace_file)\n",
    "except Error as e:\n",
    "    print(e)"
   ]
  },
  {
   "cell_type": "code",
   "execution_count": 3,
   "metadata": {},
   "outputs": [],
   "source": [
    "mascon = f['mascon']\n",
    "soln = f['solution']\n",
    "time = f['time']"
   ]
  },
  {
   "cell_type": "code",
   "execution_count": 4,
   "metadata": {},
   "outputs": [
    {
     "name": "stdout",
     "output_type": "stream",
     "text": [
      "There are 41168 Mascons in this dataset.\n"
     ]
    }
   ],
   "source": [
    "# Get mascon gdf\n",
    "mascon_gdf = get_mascon_gdf(mascon)\n",
    "\n",
    "# we need to track mascon numbers later, which we get from the index, so make a new \"mascon\" column\n",
    "mascon_gdf['mascon'] = mascon_gdf.index"
   ]
  },
  {
   "cell_type": "code",
   "execution_count": 5,
   "metadata": {},
   "outputs": [],
   "source": [
    "# Filter only mascon within HMA geographical areas\n",
    "HMA = mascon_gdf[(mascon_gdf['location'] == 80.0) & ((mascon_gdf['basin'] > 5000.0) & (mascon_gdf['basin'] < 6100.0))]"
   ]
  },
  {
   "cell_type": "markdown",
   "metadata": {},
   "source": [
    "## Retrieve NASA Land Information System (LIS) Dataset"
   ]
  },
  {
   "cell_type": "code",
   "execution_count": 6,
   "metadata": {},
   "outputs": [],
   "source": [
    "# Open Zarr Store\n",
    "fs = s3fs.S3FileSystem()\n",
    "store = s3fs.S3Map(root='himat-data/store', s3=fs, check=False)\n",
    "ds = xr.open_zarr(store)"
   ]
  },
  {
   "cell_type": "code",
   "execution_count": 7,
   "metadata": {},
   "outputs": [],
   "source": [
    "# Connect to Dask Scheduler\n",
    "client = Client('dask-scheduler:8786')"
   ]
  },
  {
   "cell_type": "code",
   "execution_count": 8,
   "metadata": {},
   "outputs": [],
   "source": [
    "# Get list of data variables\n",
    "products = [x for x in ds.data_vars]\n",
    "# Get bounding box\n",
    "x_min, x_max, y_min, y_max = ds.long[0].values, ds.long[-1].values, ds.lat[0].values, ds.lat[-1].values\n",
    "# Select mascons inside bounding box\n",
    "masked_gdf = mascon_gdf.cx[x_min:x_max,y_min:y_max].copy()\n",
    "# Get mascbon bounds\n",
    "mascon_geos = [x.bounds for x in masked_gdf['geometry']]\n",
    "mascon_coords = masked_gdf['mascon']\n",
    "time_coords = ds['time'].data\n",
    "# Get timeseries\n",
    "def get_timeseries(mascon_geo, product):\n",
    "    sel = ds[product].sel(long=slice(mascon_geo[0], mascon_geo[2]), lat=slice(mascon_geo[1], mascon_geo[3]))\n",
    "    agg_data = sel.mean(axis=(1,2)).data\n",
    "    return agg_data\n",
    "\n",
    "agg_list = compute(*[[get_timeseries(mascon_geo, product) for mascon_geo in mascon_geos] for product in products])\n",
    "agg_dict = {product:data for product, data in zip(products, agg_list)}"
   ]
  },
  {
   "cell_type": "code",
   "execution_count": 20,
   "metadata": {},
   "outputs": [],
   "source": [
    "agg_flat = np.concatenate([np.concatenate(x) for x in agg_list])\n",
    "agg_arr = agg_flat.reshape(len(products), len(mascon_coords), len(time_coords))\n",
    "time = ds['time'].data\n",
    "\n",
    "\n",
    "# Add coordinate data\n",
    "agg_data = {\n",
    "    'data':  agg_arr,\n",
    "    'time': np.asarray(time_coords),\n",
    "    'mascons' : np.asarray(mascon_coords),\n",
    "    'products': np.asarray(products)\n",
    "}\n",
    "\n",
    "# Save to pickle file\n",
    "with open('agg_data.pkl', 'wb') as file:\n",
    "    pickle.dump(agg_data, file)"
   ]
  },
  {
   "cell_type": "markdown",
   "metadata": {},
   "source": [
    "### This workflow continues on another notebook [>>](GRACE_LIS_fullyProcessed_comparison.ipynb)"
   ]
  }
 ],
 "metadata": {
  "kernelspec": {
   "display_name": "Python 3",
   "language": "python",
   "name": "python3"
  },
  "language_info": {
   "codemirror_mode": {
    "name": "ipython",
    "version": 3
   },
   "file_extension": ".py",
   "mimetype": "text/x-python",
   "name": "python",
   "nbconvert_exporter": "python",
   "pygments_lexer": "ipython3",
   "version": "3.6.5"
  }
 },
 "nbformat": 4,
 "nbformat_minor": 2
}
