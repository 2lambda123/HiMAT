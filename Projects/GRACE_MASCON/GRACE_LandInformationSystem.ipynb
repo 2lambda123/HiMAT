{
 "cells": [
  {
   "cell_type": "markdown",
   "metadata": {},
   "source": [
    "# Working with GRACE to build a mask and calculate water balance\n",
    "\n",
    "by Anthony Arendt and Landung Setiawan\n",
    "\n",
    "Datasets:\n",
    "- GRACE: https://ssed.gsfc.nasa.gov/grace/products.html\n",
    "- LIS: https://github.com/NASA-Planetary-Science/HiMAT/tree/master/Projects/LIS\n",
    "\n",
    "This is a continuation to the LIS Dataset processing workflow. [<<](../LIS/)\n",
    "\n",
    "This code is designed to access files directly on the NASA ADAPT system"
   ]
  },
  {
   "cell_type": "code",
   "execution_count": 1,
   "metadata": {},
   "outputs": [],
   "source": [
    "# Import the necessary libraries\n",
    "%matplotlib inline\n",
    "import os\n",
    "import glob\n",
    "import sys\n",
    "import datetime\n",
    "import pickle\n",
    "from datetime import timedelta\n",
    "\n",
    "import xarray as xr\n",
    "\n",
    "import pandas as pd\n",
    "import numpy as np\n",
    "\n",
    "import geopandas as gpd\n",
    "\n",
    "from dask.diagnostics import ProgressBar\n",
    "\n",
    "import seaborn as sb\n",
    "\n",
    "import matplotlib\n",
    "import matplotlib.pyplot as plt\n",
    "matplotlib.style.use('ggplot')\n",
    "\n",
    "import regionmask\n",
    "\n",
    "from shapely.geometry import Polygon\n",
    "\n",
    "import cartopy.crs as ccrs\n",
    "from cartopy.mpl.ticker import LongitudeFormatter, LatitudeFormatter\n",
    "\n",
    "from himatpy.LIS import utils\n",
    "from himatpy.tools import animation_tools\n",
    "from himatpy.GRACE_MASCON.pygrace import (extract_grace, get_mascon_gdf, get_cmwe_trend_analysis, build_mask)"
   ]
  },
  {
   "cell_type": "code",
   "execution_count": 2,
   "metadata": {},
   "outputs": [],
   "source": [
    "datadir = os.path.abspath('/att/nobackup/lsetiawa/')"
   ]
  },
  {
   "cell_type": "markdown",
   "metadata": {},
   "source": [
    "## Get GRACE Data"
   ]
  },
  {
   "cell_type": "code",
   "execution_count": 3,
   "metadata": {
    "scrolled": true
   },
   "outputs": [
    {
     "name": "stdout",
     "output_type": "stream",
     "text": [
      "Data extracted: \n",
      "---\n",
      "Group: mascon\n",
      "---\n",
      "<HDF5 dataset \"area_deg\": shape (1, 41168), type \"<f8\">\n",
      "<HDF5 dataset \"area_km2\": shape (1, 41168), type \"<f8\">\n",
      "<HDF5 dataset \"basin\": shape (1, 41168), type \"<f8\">\n",
      "<HDF5 dataset \"elev_flag\": shape (1, 41168), type \"<f8\">\n",
      "<HDF5 dataset \"lat_center\": shape (1, 41168), type \"<f8\">\n",
      "<HDF5 dataset \"lat_span\": shape (1, 41168), type \"<f8\">\n",
      "<HDF5 dataset \"location\": shape (1, 41168), type \"<f8\">\n",
      "<HDF5 dataset \"lon_center\": shape (1, 41168), type \"<f8\">\n",
      "<HDF5 dataset \"lon_span\": shape (1, 41168), type \"<f8\">\n",
      "---\n",
      "Group: size\n",
      "---\n",
      "<HDF5 dataset \"N_arcs\": shape (1, 1), type \"<f8\">\n",
      "<HDF5 dataset \"N_mascon_times\": shape (1, 1), type \"<f8\">\n",
      "<HDF5 dataset \"N_mascons\": shape (1, 1), type \"<f8\">\n",
      "---\n",
      "Group: solution\n",
      "---\n",
      "<HDF5 dataset \"cmwe\": shape (41168, 148), type \"<f8\">\n",
      "<HDF5 dataset \"uncertainty\": shape (41168, 148), type \"<f8\">\n",
      "---\n",
      "Group: time\n",
      "---\n",
      "<HDF5 dataset \"list_ref_days_solution\": shape (1, 4128), type \"<f8\">\n",
      "<HDF5 dataset \"n_ref_days_solution\": shape (1, 148), type \"<f8\">\n",
      "<HDF5 dataset \"n_ref_days_window\": shape (1, 148), type \"<f8\">\n",
      "<HDF5 dataset \"ref_days_first\": shape (1, 148), type \"<f8\">\n",
      "<HDF5 dataset \"ref_days_last\": shape (1, 148), type \"<f8\">\n",
      "<HDF5 dataset \"ref_days_middle\": shape (1, 148), type \"<f8\">\n",
      "<HDF5 dataset \"yyyy_doy_yrplot_middle\": shape (3, 148), type \"<f8\">\n"
     ]
    }
   ],
   "source": [
    "# Read in mascon file\n",
    "grace_file = os.path.join(datadir, 'LIS', 'GSFC.glb.200301_201607_v02.3b-ICE6G.h5')\n",
    "try:\n",
    "    f = extract_grace(grace_file)\n",
    "except FileNotFoundError as e:\n",
    "    print(e)"
   ]
  },
  {
   "cell_type": "code",
   "execution_count": 4,
   "metadata": {},
   "outputs": [],
   "source": [
    "mascon = f['mascon']\n",
    "soln = f['solution']\n",
    "time = f['time']"
   ]
  },
  {
   "cell_type": "code",
   "execution_count": 5,
   "metadata": {},
   "outputs": [
    {
     "name": "stdout",
     "output_type": "stream",
     "text": [
      "There are 41168 Mascons in this dataset.\n"
     ]
    }
   ],
   "source": [
    "# Get mascon gdf\n",
    "mascon_gdf = get_mascon_gdf(mascon)\n",
    "\n",
    "# we need to track mascon numbers later, which we get from the index, so make a new \"mascon\" column\n",
    "mascon_gdf['mascon'] = mascon_gdf.index"
   ]
  },
  {
   "cell_type": "code",
   "execution_count": 6,
   "metadata": {},
   "outputs": [],
   "source": [
    "# Filter only mascon within HMA geographical areas\n",
    "HMA = mascon_gdf[(mascon_gdf['location'] == 80.0) & ((mascon_gdf['basin'] > 5000.0) & (mascon_gdf['basin'] < 6100.0))]"
   ]
  },
  {
   "cell_type": "markdown",
   "metadata": {},
   "source": [
    "## Retrieve NASA Land Information System (LIS) Dataset"
   ]
  },
  {
   "cell_type": "code",
   "execution_count": 7,
   "metadata": {},
   "outputs": [],
   "source": [
    "lis_file = os.path.join(datadir, 'LISMonthly.nc')\n",
    "lis_ds = xr.open_dataset(lis_file, chunks={'time': 10})\n",
    "# getting the max/min lat/lon from the LIS dataset\n",
    "minLong = lis_ds.coords['longitude'].min().values\n",
    "maxLong = lis_ds.coords['longitude'].max().values\n",
    "minLat = lis_ds.coords['latitude'].min().values\n",
    "maxLat = lis_ds.coords['latitude'].max().values\n",
    "bbox = [minLong, minLat, maxLong, maxLat]"
   ]
  },
  {
   "cell_type": "code",
   "execution_count": 8,
   "metadata": {},
   "outputs": [
    {
     "data": {
      "text/plain": [
       "<xarray.DataArray 'Qsm_tavg' (time: 192, north_south: 1696, east_west: 1896)>\n",
       "dask.array<open_dataset-bd08889e4f56ade7e3f7fe8ff88ddd81Qsm_tavg, shape=(192, 1696, 1896), dtype=float64, chunksize=(10, 1696, 1896)>\n",
       "Coordinates:\n",
       "    longitude  (north_south, east_west) float64 66.03 66.04 66.05 66.06 ...\n",
       "    latitude   (north_south, east_west) float64 22.02 22.02 22.02 22.02 ...\n",
       "  * time       (time) datetime64[ns] 2001-01-01 2001-02-01 2001-03-01 ...\n",
       "Dimensions without coordinates: north_south, east_west\n",
       "Attributes:\n",
       "    units:          mm we\n",
       "    standard_name:  snowmelt\n",
       "    long_name:      Cumulative monthly snowmelt in units of mm we\n",
       "    vmin:           0.0\n",
       "    vmax:           0.0"
      ]
     },
     "execution_count": 8,
     "metadata": {},
     "output_type": "execute_result"
    }
   ],
   "source": [
    "lis_ds['Qsm_tavg']"
   ]
  },
  {
   "cell_type": "markdown",
   "metadata": {},
   "source": [
    "## Build Mask\n",
    "\n",
    "Using the [regionmask](http://regionmask.readthedocs.io/en/stable/index.html) library"
   ]
  },
  {
   "cell_type": "code",
   "execution_count": 9,
   "metadata": {},
   "outputs": [
    {
     "name": "stdout",
     "output_type": "stream",
     "text": [
      "Exporting /att/nobackup/lsetiawa/gracemsk.nc\n"
     ]
    }
   ],
   "source": [
    "m, gpd_intersect = build_mask(bbox, HMA, dacoords=lis_ds.coords, serialize=True, datadir=datadir)"
   ]
  },
  {
   "cell_type": "code",
   "execution_count": 10,
   "metadata": {},
   "outputs": [
    {
     "data": {
      "text/plain": [
       "<matplotlib.collections.QuadMesh at 0x7f1c591808d0>"
      ]
     },
     "execution_count": 10,
     "metadata": {},
     "output_type": "execute_result"
    },
    {
     "data": {
      "image/png": "[encoded data removed]",
      "text/plain": [
       "<matplotlib.figure.Figure at 0x7f1c59057fd0>"
      ]
     },
     "metadata": {},
     "output_type": "display_data"
    }
   ],
   "source": [
    "m.plot(x='longitude', y='latitude')"
   ]
  },
  {
   "cell_type": "markdown",
   "metadata": {},
   "source": [
    "## Apply Mask\n",
    "\n",
    "\"stacked_north_south_east_west\" comes from regionmask example. It appears to be a method for multidimensional masking. This is still a bit foggy."
   ]
  },
  {
   "cell_type": "code",
   "execution_count": 11,
   "metadata": {},
   "outputs": [],
   "source": [
    "ds_masked = lis_ds.groupby(m).mean('stacked_north_south_east_west')"
   ]
  },
  {
   "cell_type": "code",
   "execution_count": 13,
   "metadata": {},
   "outputs": [],
   "source": [
    "ds_masked.coords['mascon'] = ('mask', gpd_intersect['mascon'].values[ds_masked.coords['mask'].values.astype('int')])"
   ]
  },
  {
   "cell_type": "markdown",
   "metadata": {},
   "source": [
    "#### Now the mask is part of the coordinates"
   ]
  },
  {
   "cell_type": "code",
   "execution_count": 12,
   "metadata": {},
   "outputs": [
    {
     "data": {
      "text/plain": [
       "<xarray.Dataset>\n",
       "Dimensions:     (mask: 304, time: 192)\n",
       "Coordinates:\n",
       "  * time        (time) datetime64[ns] 2001-01-01 2001-02-01 2001-03-01 ...\n",
       "  * mask        (mask) float64 0.0 1.0 3.0 4.0 5.0 6.0 7.0 9.0 10.0 12.0 ...\n",
       "Data variables:\n",
       "    Qsm_tavg    (mask, time) float64 0.0 0.0 0.0 0.0 0.0 0.0 0.0 0.0 0.0 0.0 ...\n",
       "    Rainf_tavg  (mask, time) float64 0.00575 1.573 2.159 40.24 0.5293 9.418 ...\n",
       "    Qs_tavg     (mask, time) float64 0.0001055 0.02523 0.03486 0.5914 ...\n",
       "    Snowf_tavg  (mask, time) float64 6.288e-05 1.609e-05 3.359e-17 0.0 0.0 ...\n",
       "    Qsb_tavg    (mask, time) float64 0.6377 0.5884 0.6433 0.6147 0.6317 ...\n",
       "    Evap_tavg   (mask, time) float64 6.498 4.668 5.312 22.78 9.491 7.929 ...\n",
       "    TWS_tavg    (mask, time) float64 1.56e+05 1.454e+05 1.609e+05 1.559e+05 ..."
      ]
     },
     "execution_count": 12,
     "metadata": {},
     "output_type": "execute_result"
    }
   ],
   "source": [
    "ds_masked"
   ]
  },
  {
   "cell_type": "markdown",
   "metadata": {},
   "source": [
    "### Convert everything to a Pandas dataframe for easier evaluation"
   ]
  },
  {
   "cell_type": "code",
   "execution_count": 14,
   "metadata": {},
   "outputs": [
    {
     "name": "stdout",
     "output_type": "stream",
     "text": [
      "[########################################] | 100% Completed | 17.0s\n",
      "[########################################] | 100% Completed | 15.8s\n",
      "[########################################] | 100% Completed | 16.8s\n",
      "[########################################] | 100% Completed | 17.0s\n",
      "[########################################] | 100% Completed | 17.0s\n",
      "[########################################] | 100% Completed | 17.2s\n",
      "[########################################] | 100% Completed | 17.2s\n"
     ]
    }
   ],
   "source": [
    "with ProgressBar():\n",
    "    mdf = ds_masked.to_dataframe()"
   ]
  },
  {
   "cell_type": "code",
   "execution_count": 15,
   "metadata": {},
   "outputs": [
    {
     "data": {
      "text/html": [
       "<div>\n",
       "<style>\n",
       "    .dataframe thead tr:only-child th {\n",
       "        text-align: right;\n",
       "    }\n",
       "\n",
       "    .dataframe thead th {\n",
       "        text-align: left;\n",
       "    }\n",
       "\n",
       "    .dataframe tbody tr th {\n",
       "        vertical-align: top;\n",
       "    }\n",
       "</style>\n",
       "<table border=\"1\" class=\"dataframe\">\n",
       "  <thead>\n",
       "    <tr style=\"text-align: right;\">\n",
       "      <th></th>\n",
       "      <th></th>\n",
       "      <th>Qsm_tavg</th>\n",
       "      <th>Rainf_tavg</th>\n",
       "      <th>Qs_tavg</th>\n",
       "      <th>Snowf_tavg</th>\n",
       "      <th>Qsb_tavg</th>\n",
       "      <th>Evap_tavg</th>\n",
       "      <th>TWS_tavg</th>\n",
       "      <th>mascon</th>\n",
       "    </tr>\n",
       "    <tr>\n",
       "      <th>mask</th>\n",
       "      <th>time</th>\n",
       "      <th></th>\n",
       "      <th></th>\n",
       "      <th></th>\n",
       "      <th></th>\n",
       "      <th></th>\n",
       "      <th></th>\n",
       "      <th></th>\n",
       "      <th></th>\n",
       "    </tr>\n",
       "  </thead>\n",
       "  <tbody>\n",
       "    <tr>\n",
       "      <th rowspan=\"5\" valign=\"top\">0.0</th>\n",
       "      <th>2001-01-01</th>\n",
       "      <td>0.0</td>\n",
       "      <td>0.005750</td>\n",
       "      <td>0.000105</td>\n",
       "      <td>6.288375e-05</td>\n",
       "      <td>0.637697</td>\n",
       "      <td>6.497751</td>\n",
       "      <td>155973.542914</td>\n",
       "      <td>8119</td>\n",
       "    </tr>\n",
       "    <tr>\n",
       "      <th>2001-02-01</th>\n",
       "      <td>0.0</td>\n",
       "      <td>1.572855</td>\n",
       "      <td>0.025225</td>\n",
       "      <td>1.608942e-05</td>\n",
       "      <td>0.588437</td>\n",
       "      <td>4.668368</td>\n",
       "      <td>145432.582280</td>\n",
       "      <td>8119</td>\n",
       "    </tr>\n",
       "    <tr>\n",
       "      <th>2001-03-01</th>\n",
       "      <td>0.0</td>\n",
       "      <td>2.158684</td>\n",
       "      <td>0.034859</td>\n",
       "      <td>3.358837e-17</td>\n",
       "      <td>0.643275</td>\n",
       "      <td>5.312384</td>\n",
       "      <td>160911.182782</td>\n",
       "      <td>8119</td>\n",
       "    </tr>\n",
       "    <tr>\n",
       "      <th>2001-04-01</th>\n",
       "      <td>0.0</td>\n",
       "      <td>40.241033</td>\n",
       "      <td>0.591367</td>\n",
       "      <td>0.000000e+00</td>\n",
       "      <td>0.614738</td>\n",
       "      <td>22.778068</td>\n",
       "      <td>155926.765992</td>\n",
       "      <td>8119</td>\n",
       "    </tr>\n",
       "    <tr>\n",
       "      <th>2001-05-01</th>\n",
       "      <td>0.0</td>\n",
       "      <td>0.529290</td>\n",
       "      <td>0.007452</td>\n",
       "      <td>0.000000e+00</td>\n",
       "      <td>0.631675</td>\n",
       "      <td>9.491286</td>\n",
       "      <td>161194.044970</td>\n",
       "      <td>8119</td>\n",
       "    </tr>\n",
       "  </tbody>\n",
       "</table>\n",
       "</div>"
      ],
      "text/plain": [
       "                 Qsm_tavg  Rainf_tavg   Qs_tavg    Snowf_tavg  Qsb_tavg  \\\n",
       "mask time                                                                 \n",
       "0.0  2001-01-01       0.0    0.005750  0.000105  6.288375e-05  0.637697   \n",
       "     2001-02-01       0.0    1.572855  0.025225  1.608942e-05  0.588437   \n",
       "     2001-03-01       0.0    2.158684  0.034859  3.358837e-17  0.643275   \n",
       "     2001-04-01       0.0   40.241033  0.591367  0.000000e+00  0.614738   \n",
       "     2001-05-01       0.0    0.529290  0.007452  0.000000e+00  0.631675   \n",
       "\n",
       "                 Evap_tavg       TWS_tavg  mascon  \n",
       "mask time                                          \n",
       "0.0  2001-01-01   6.497751  155973.542914    8119  \n",
       "     2001-02-01   4.668368  145432.582280    8119  \n",
       "     2001-03-01   5.312384  160911.182782    8119  \n",
       "     2001-04-01  22.778068  155926.765992    8119  \n",
       "     2001-05-01   9.491286  161194.044970    8119  "
      ]
     },
     "execution_count": 15,
     "metadata": {},
     "output_type": "execute_result"
    }
   ],
   "source": [
    "mdf.head()"
   ]
  },
  {
   "cell_type": "markdown",
   "metadata": {},
   "source": [
    "### Calculate the waterbalance. GRACE represents cumulative mass so we calculate cumulative sum for GRACE comparison"
   ]
  },
  {
   "cell_type": "code",
   "execution_count": 19,
   "metadata": {},
   "outputs": [],
   "source": [
    "mdf['waterbal'] = mdf['Rainf_tavg'] + mdf['Snowf_tavg'] - (mdf['Qsb_tavg'] + mdf['Qsm_tavg'] + mdf['Evap_tavg'])\n",
    "mdf['waterbal_cumulative'] = mdf.groupby(['mask'])['waterbal'].apply(lambda x: x.cumsum())"
   ]
  },
  {
   "cell_type": "code",
   "execution_count": 20,
   "metadata": {},
   "outputs": [
    {
     "data": {
      "text/html": [
       "<div>\n",
       "<style>\n",
       "    .dataframe thead tr:only-child th {\n",
       "        text-align: right;\n",
       "    }\n",
       "\n",
       "    .dataframe thead th {\n",
       "        text-align: left;\n",
       "    }\n",
       "\n",
       "    .dataframe tbody tr th {\n",
       "        vertical-align: top;\n",
       "    }\n",
       "</style>\n",
       "<table border=\"1\" class=\"dataframe\">\n",
       "  <thead>\n",
       "    <tr style=\"text-align: right;\">\n",
       "      <th></th>\n",
       "      <th></th>\n",
       "      <th>Qsm_tavg</th>\n",
       "      <th>Rainf_tavg</th>\n",
       "      <th>Qs_tavg</th>\n",
       "      <th>Snowf_tavg</th>\n",
       "      <th>Qsb_tavg</th>\n",
       "      <th>Evap_tavg</th>\n",
       "      <th>TWS_tavg</th>\n",
       "      <th>mascon</th>\n",
       "      <th>waterbal</th>\n",
       "      <th>waterbal_cumulative</th>\n",
       "    </tr>\n",
       "    <tr>\n",
       "      <th>mask</th>\n",
       "      <th>time</th>\n",
       "      <th></th>\n",
       "      <th></th>\n",
       "      <th></th>\n",
       "      <th></th>\n",
       "      <th></th>\n",
       "      <th></th>\n",
       "      <th></th>\n",
       "      <th></th>\n",
       "      <th></th>\n",
       "      <th></th>\n",
       "    </tr>\n",
       "  </thead>\n",
       "  <tbody>\n",
       "    <tr>\n",
       "      <th rowspan=\"5\" valign=\"top\">0.0</th>\n",
       "      <th>2001-01-01</th>\n",
       "      <td>0.0</td>\n",
       "      <td>0.005750</td>\n",
       "      <td>0.000105</td>\n",
       "      <td>6.288375e-05</td>\n",
       "      <td>0.637697</td>\n",
       "      <td>6.497751</td>\n",
       "      <td>155973.542914</td>\n",
       "      <td>8119</td>\n",
       "      <td>-7.129635</td>\n",
       "      <td>-7.129635</td>\n",
       "    </tr>\n",
       "    <tr>\n",
       "      <th>2001-02-01</th>\n",
       "      <td>0.0</td>\n",
       "      <td>1.572855</td>\n",
       "      <td>0.025225</td>\n",
       "      <td>1.608942e-05</td>\n",
       "      <td>0.588437</td>\n",
       "      <td>4.668368</td>\n",
       "      <td>145432.582280</td>\n",
       "      <td>8119</td>\n",
       "      <td>-3.683934</td>\n",
       "      <td>-10.813569</td>\n",
       "    </tr>\n",
       "    <tr>\n",
       "      <th>2001-03-01</th>\n",
       "      <td>0.0</td>\n",
       "      <td>2.158684</td>\n",
       "      <td>0.034859</td>\n",
       "      <td>3.358837e-17</td>\n",
       "      <td>0.643275</td>\n",
       "      <td>5.312384</td>\n",
       "      <td>160911.182782</td>\n",
       "      <td>8119</td>\n",
       "      <td>-3.796974</td>\n",
       "      <td>-14.610543</td>\n",
       "    </tr>\n",
       "    <tr>\n",
       "      <th>2001-04-01</th>\n",
       "      <td>0.0</td>\n",
       "      <td>40.241033</td>\n",
       "      <td>0.591367</td>\n",
       "      <td>0.000000e+00</td>\n",
       "      <td>0.614738</td>\n",
       "      <td>22.778068</td>\n",
       "      <td>155926.765992</td>\n",
       "      <td>8119</td>\n",
       "      <td>16.848226</td>\n",
       "      <td>2.237683</td>\n",
       "    </tr>\n",
       "    <tr>\n",
       "      <th>2001-05-01</th>\n",
       "      <td>0.0</td>\n",
       "      <td>0.529290</td>\n",
       "      <td>0.007452</td>\n",
       "      <td>0.000000e+00</td>\n",
       "      <td>0.631675</td>\n",
       "      <td>9.491286</td>\n",
       "      <td>161194.044970</td>\n",
       "      <td>8119</td>\n",
       "      <td>-9.593671</td>\n",
       "      <td>-7.355988</td>\n",
       "    </tr>\n",
       "  </tbody>\n",
       "</table>\n",
       "</div>"
      ],
      "text/plain": [
       "                 Qsm_tavg  Rainf_tavg   Qs_tavg    Snowf_tavg  Qsb_tavg  \\\n",
       "mask time                                                                 \n",
       "0.0  2001-01-01       0.0    0.005750  0.000105  6.288375e-05  0.637697   \n",
       "     2001-02-01       0.0    1.572855  0.025225  1.608942e-05  0.588437   \n",
       "     2001-03-01       0.0    2.158684  0.034859  3.358837e-17  0.643275   \n",
       "     2001-04-01       0.0   40.241033  0.591367  0.000000e+00  0.614738   \n",
       "     2001-05-01       0.0    0.529290  0.007452  0.000000e+00  0.631675   \n",
       "\n",
       "                 Evap_tavg       TWS_tavg  mascon   waterbal  \\\n",
       "mask time                                                      \n",
       "0.0  2001-01-01   6.497751  155973.542914    8119  -7.129635   \n",
       "     2001-02-01   4.668368  145432.582280    8119  -3.683934   \n",
       "     2001-03-01   5.312384  160911.182782    8119  -3.796974   \n",
       "     2001-04-01  22.778068  155926.765992    8119  16.848226   \n",
       "     2001-05-01   9.491286  161194.044970    8119  -9.593671   \n",
       "\n",
       "                 waterbal_cumulative  \n",
       "mask time                             \n",
       "0.0  2001-01-01            -7.129635  \n",
       "     2001-02-01           -10.813569  \n",
       "     2001-03-01           -14.610543  \n",
       "     2001-04-01             2.237683  \n",
       "     2001-05-01            -7.355988  "
      ]
     },
     "execution_count": 20,
     "metadata": {},
     "output_type": "execute_result"
    }
   ],
   "source": [
    "mdf.head()"
   ]
  },
  {
   "cell_type": "code",
   "execution_count": 21,
   "metadata": {},
   "outputs": [],
   "source": [
    "mdf.to_pickle(os.path.join(datadir, 'LIS_by_mascon.pkl'))"
   ]
  },
  {
   "cell_type": "markdown",
   "metadata": {},
   "source": [
    "### This workflow continues on another notebook [>>](./path_here)"
   ]
  }
 ],
 "metadata": {
  "kernelspec": {
   "display_name": "Python 3",
   "language": "python",
   "name": "python3"
  },
  "language_info": {
   "codemirror_mode": {
    "name": "ipython",
    "version": 3
   },
   "file_extension": ".py",
   "mimetype": "text/x-python",
   "name": "python",
   "nbconvert_exporter": "python",
   "pygments_lexer": "ipython3",
   "version": "3.6.3"
  }
 },
 "nbformat": 4,
 "nbformat_minor": 2
}
