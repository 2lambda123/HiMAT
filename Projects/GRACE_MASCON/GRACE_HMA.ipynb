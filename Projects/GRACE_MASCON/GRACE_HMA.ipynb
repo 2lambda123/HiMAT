{
 "cells": [
  {
   "cell_type": "markdown",
   "metadata": {},
   "source": [
    "### Combining GRACE mascon and LIS model output"
   ]
  },
  {
   "cell_type": "code",
   "execution_count": 1,
   "metadata": {},
   "outputs": [],
   "source": [
    "# Jupter notebook magic\n",
    "%matplotlib inline\n",
    "\n",
    "# Import libraries to work with the data\n",
    "import os\n",
    "import sys\n",
    "from datetime import datetime, timedelta\n",
    "sys.path.append('../../scripts')\n",
    "\n",
    "from branca.colormap import linear\n",
    "import folium\n",
    "\n",
    "import geopandas as gpd\n",
    "from geopandas import GeoDataFrame\n",
    "\n",
    "import h5py\n",
    "import numpy as np\n",
    "import pandas as pd\n",
    "import pyepsg\n",
    "import scipy.optimize\n",
    "from shapely.geometry import (Polygon, Point, box)\n",
    "import xarray as xr\n",
    "import regionmask\n",
    "\n",
    "from dask.diagnostics import ProgressBar\n",
    "    \n",
    "from GRACE_MASCON.pygrace import (extract_grace, get_mascon_gdf, get_cmwe_trend_analysis)\n",
    "from LIS import utils as LISutils"
   ]
  },
  {
   "cell_type": "code",
   "execution_count": 2,
   "metadata": {},
   "outputs": [],
   "source": [
    "Linux = False\n",
    "if Linux:\n",
    "   fname = '/att/nobackup/aarendt/GRACE/GSFC.glb.200301_201607_v02.3b-ICE6G.h5'\n",
    "   datadir = '/att/nobackup/aarendt/LIS/'\n",
    "else:\n",
    "   fname = 'c:\\work\\datadrive\\GRACE\\GSFC.glb.200301_201607_v02.3b-ICE6G.h5'\n",
    "   datadir = \"c:\\\\work\\\\datadrive\\\\LIS\\\\\""
   ]
  },
  {
   "cell_type": "code",
   "execution_count": 3,
   "metadata": {},
   "outputs": [],
   "source": [
    "fpath = os.path.join(os.path.abspath(os.path.curdir), fname)"
   ]
  },
  {
   "cell_type": "code",
   "execution_count": 4,
   "metadata": {},
   "outputs": [
    {
     "name": "stdout",
     "output_type": "stream",
     "text": [
      "Data extracted: \n",
      "---\n",
      "Group: mascon\n",
      "---\n",
      "<HDF5 dataset \"area_deg\": shape (1, 41168), type \"<f8\">\n",
      "<HDF5 dataset \"area_km2\": shape (1, 41168), type \"<f8\">\n",
      "<HDF5 dataset \"basin\": shape (1, 41168), type \"<f8\">\n",
      "<HDF5 dataset \"elev_flag\": shape (1, 41168), type \"<f8\">\n",
      "<HDF5 dataset \"lat_center\": shape (1, 41168), type \"<f8\">\n",
      "<HDF5 dataset \"lat_span\": shape (1, 41168), type \"<f8\">\n",
      "<HDF5 dataset \"location\": shape (1, 41168), type \"<f8\">\n",
      "<HDF5 dataset \"lon_center\": shape (1, 41168), type \"<f8\">\n",
      "<HDF5 dataset \"lon_span\": shape (1, 41168), type \"<f8\">\n",
      "---\n",
      "Group: size\n",
      "---\n",
      "<HDF5 dataset \"N_arcs\": shape (1, 1), type \"<f8\">\n",
      "<HDF5 dataset \"N_mascon_times\": shape (1, 1), type \"<f8\">\n",
      "<HDF5 dataset \"N_mascons\": shape (1, 1), type \"<f8\">\n",
      "---\n",
      "Group: solution\n",
      "---\n",
      "<HDF5 dataset \"cmwe\": shape (41168, 148), type \"<f8\">\n",
      "<HDF5 dataset \"uncertainty\": shape (41168, 148), type \"<f8\">\n",
      "---\n",
      "Group: time\n",
      "---\n",
      "<HDF5 dataset \"list_ref_days_solution\": shape (1, 4128), type \"<f8\">\n",
      "<HDF5 dataset \"n_ref_days_solution\": shape (1, 148), type \"<f8\">\n",
      "<HDF5 dataset \"n_ref_days_window\": shape (1, 148), type \"<f8\">\n",
      "<HDF5 dataset \"ref_days_first\": shape (1, 148), type \"<f8\">\n",
      "<HDF5 dataset \"ref_days_last\": shape (1, 148), type \"<f8\">\n",
      "<HDF5 dataset \"ref_days_middle\": shape (1, 148), type \"<f8\">\n",
      "<HDF5 dataset \"yyyy_doy_yrplot_middle\": shape (3, 148), type \"<f8\">\n"
     ]
    }
   ],
   "source": [
    "f = extract_grace(fpath)"
   ]
  },
  {
   "cell_type": "code",
   "execution_count": 5,
   "metadata": {},
   "outputs": [
    {
     "name": "stdout",
     "output_type": "stream",
     "text": [
      "There are 41168 Mascons in this dataset.\n"
     ]
    }
   ],
   "source": [
    "mascon = f['mascon']\n",
    "soln = f['solution']\n",
    "mascon_gdf = get_mascon_gdf(mascon)\n",
    "## we need to track mascon numbers later, which we get from the index, so make a new \"mascon\" column\n",
    "mascon_gdf['mascon'] = mascon_gdf.index"
   ]
  },
  {
   "cell_type": "markdown",
   "metadata": {},
   "source": [
    "## read in the natural Earth dataset"
   ]
  },
  {
   "cell_type": "code",
   "execution_count": null,
   "metadata": {},
   "outputs": [],
   "source": [
    "world = gpd.read_file(gpd.datasets.get_path('naturalearth_lowres'))"
   ]
  },
  {
   "cell_type": "markdown",
   "metadata": {},
   "source": [
    "## build a polygon representing HMA bounding box"
   ]
  },
  {
   "cell_type": "code",
   "execution_count": null,
   "metadata": {},
   "outputs": [],
   "source": [
    "coordinates = [(62,26), (62,46), (106,46), (106, 26)]\n",
    "# Create a Shapely polygon from the coordinate-tuple list\n",
    "poly = Polygon(coordinates)\n",
    "# create a geodataframe\n",
    "HMA_region = gpd.GeoDataFrame()\n",
    "HMA_region.loc[0, 'geometry'] = poly"
   ]
  },
  {
   "cell_type": "markdown",
   "metadata": {},
   "source": [
    "### bring in the LIS data"
   ]
  },
  {
   "cell_type": "markdown",
   "metadata": {},
   "source": [
    "### Import the monthly average LIS product I calculated in [LIS Notebook](https://github.com/NASA-Planetary-Science/HiMAT/blob/master/Projects/LIS/waterBalance.ipynb) and stored temporarily on nobackup\n",
    "\n",
    "* calculate the water balance from all the components"
   ]
  },
  {
   "cell_type": "code",
   "execution_count": 6,
   "metadata": {},
   "outputs": [],
   "source": [
    "ds = xr.open_mfdataset(datadir + '*.nc')\n",
    "ds = ds.chunk({'time': 1})"
   ]
  },
  {
   "cell_type": "markdown",
   "metadata": {},
   "source": [
    "### Build a polygon around the extent of the LIS output so we can subset the GRACE data"
   ]
  },
  {
   "cell_type": "code",
   "execution_count": 7,
   "metadata": {},
   "outputs": [
    {
     "name": "stderr",
     "output_type": "stream",
     "text": [
      "../../scripts\\GRACE_MASCON\\pygrace.py:76: SettingWithCopyWarning: \n",
      "A value is trying to be set on a copy of a slice from a DataFrame.\n",
      "Try using .loc[row_indexer,col_indexer] = value instead\n",
      "\n",
      "See the caveats in the documentation: http://pandas.pydata.org/pandas-docs/stable/indexing.html#indexing-view-versus-copy\n",
      "  mascon_gdf['avg_mass_change_cm'] = avg_mass\n"
     ]
    },
    {
     "data": {
      "text/plain": [
       "<matplotlib.axes._subplots.AxesSubplot at 0x23e708584e0>"
      ]
     },
     "execution_count": 7,
     "metadata": {},
     "output_type": "execute_result"
    },
    {
     "data": {
      "image/png": "[encoded data removed]",
      "text/plain": [
       "<matplotlib.figure.Figure at 0x23e7081a908>"
      ]
     },
     "metadata": {},
     "output_type": "display_data"
    }
   ],
   "source": [
    "# getting the max/min lat/lon from the LIS dataset\n",
    "minLong = ds.coords['longitude'].min().values\n",
    "maxLong = ds.coords['longitude'].max().values\n",
    "minLat = ds.coords['latitude'].min().values\n",
    "maxLat = ds.coords['latitude'].max().values\n",
    "\n",
    "coordinates = [(minLong,minLat), (minLong,maxLat), (maxLong,maxLat), (maxLong, minLat)]\n",
    "# Create a Shapely polygon from the coordinate-tuple list\n",
    "poly = Polygon(coordinates)\n",
    "# create a geodataframe\n",
    "HMA_region = gpd.GeoDataFrame()\n",
    "HMA_region.loc[0, 'geometry'] = poly\n",
    "\n",
    "# HMA\n",
    "HMA = mascon_gdf[(mascon_gdf['location'] == 80.0) & ((mascon_gdf['basin'] > 5000.0) & (mascon_gdf['basin'] < 6100.0))]\n",
    "HMA_w_trend = get_cmwe_trend_analysis(HMA, f)\n",
    "HMA_w_trend.plot(column='avg_mass_change_cm')"
   ]
  },
  {
   "cell_type": "markdown",
   "metadata": {},
   "source": [
    "### Select only those mascons in the HMA bounding box"
   ]
  },
  {
   "cell_type": "code",
   "execution_count": 8,
   "metadata": {
    "scrolled": true
   },
   "outputs": [
    {
     "ename": "NameError",
     "evalue": "name 'world' is not defined",
     "output_type": "error",
     "traceback": [
      "\u001b[1;31m---------------------------------------------------------------------------\u001b[0m",
      "\u001b[1;31mNameError\u001b[0m                                 Traceback (most recent call last)",
      "\u001b[1;32m<ipython-input-8-b9fffe41b848>\u001b[0m in \u001b[0;36m<module>\u001b[1;34m()\u001b[0m\n\u001b[0;32m      1\u001b[0m \u001b[0mgpd_intersect\u001b[0m \u001b[1;33m=\u001b[0m \u001b[0mgpd\u001b[0m\u001b[1;33m.\u001b[0m\u001b[0moverlay\u001b[0m\u001b[1;33m(\u001b[0m\u001b[0mHMA_region\u001b[0m\u001b[1;33m,\u001b[0m \u001b[0mHMA_w_trend\u001b[0m\u001b[1;33m,\u001b[0m \u001b[0mhow\u001b[0m\u001b[1;33m=\u001b[0m\u001b[1;34m'intersection'\u001b[0m\u001b[1;33m)\u001b[0m\u001b[1;33m\u001b[0m\u001b[0m\n\u001b[1;32m----> 2\u001b[1;33m \u001b[0mgpd_intersect\u001b[0m\u001b[1;33m.\u001b[0m\u001b[0mplot\u001b[0m\u001b[1;33m(\u001b[0m\u001b[0mcolumn\u001b[0m\u001b[1;33m=\u001b[0m\u001b[1;34m'avg_mass_change_cm'\u001b[0m\u001b[1;33m,\u001b[0m \u001b[0max\u001b[0m\u001b[1;33m=\u001b[0m\u001b[0mworld\u001b[0m\u001b[1;33m[\u001b[0m\u001b[0mworld\u001b[0m\u001b[1;33m[\u001b[0m\u001b[1;34m'continent'\u001b[0m\u001b[1;33m]\u001b[0m \u001b[1;33m==\u001b[0m \u001b[1;34m'Asia'\u001b[0m\u001b[1;33m]\u001b[0m\u001b[1;33m.\u001b[0m\u001b[0mplot\u001b[0m\u001b[1;33m(\u001b[0m\u001b[1;33m)\u001b[0m\u001b[1;33m,\u001b[0m \u001b[0mfigsize\u001b[0m\u001b[1;33m=\u001b[0m\u001b[1;33m(\u001b[0m\u001b[1;36m20\u001b[0m\u001b[1;33m,\u001b[0m \u001b[1;36m20\u001b[0m\u001b[1;33m)\u001b[0m\u001b[1;33m)\u001b[0m\u001b[1;33m;\u001b[0m\u001b[1;33m\u001b[0m\u001b[0m\n\u001b[0m",
      "\u001b[1;31mNameError\u001b[0m: name 'world' is not defined"
     ]
    }
   ],
   "source": [
    "gpd_intersect = gpd.overlay(HMA_region, HMA_w_trend, how='intersection')\n",
    "gpd_intersect.plot(column='avg_mass_change_cm', ax=world[world['continent'] == 'Asia'].plot(), figsize=(20, 20));"
   ]
  },
  {
   "cell_type": "markdown",
   "metadata": {},
   "source": [
    "### build a mask into the LIS coordinates based on the GRACE mascons \n",
    "* using [regionmask](http://regionmask.readthedocs.io/en/stable/)"
   ]
  },
  {
   "cell_type": "code",
   "execution_count": 9,
   "metadata": {},
   "outputs": [],
   "source": [
    "numbers = gpd_intersect.index.values\n",
    "names = gpd_intersect['mascon'].values\n",
    "abbrevs = gpd_intersect['mascon'].values\n",
    "m = regionmask.Regions_cls('HMA_msk',numbers,names,abbrevs,gpd_intersect.geometry.values)"
   ]
  },
  {
   "cell_type": "code",
   "execution_count": null,
   "metadata": {},
   "outputs": [],
   "source": [
    "ax = m.plot()\n",
    "import cartopy.crs as ccrs\n",
    "ax.set_extent([0, 140, 10, 70], crs = ccrs.PlateCarree());"
   ]
  },
  {
   "cell_type": "code",
   "execution_count": null,
   "metadata": {},
   "outputs": [],
   "source": [
    "m.name = 'mascon'"
   ]
  },
  {
   "cell_type": "markdown",
   "metadata": {},
   "source": [
    "### this builds the mask \n",
    "* we can do this for just one variable and one time slice, since all the lat/long grids are coregistered anyhow\n",
    "* this takes some time"
   ]
  },
  {
   "cell_type": "code",
   "execution_count": null,
   "metadata": {},
   "outputs": [],
   "source": [
    "t = xr.open_dataset(datadir + 'snowMonthly.nc')\n",
    "m2 = m.mask(t['Snowf_tavg'].isel(time=0), lon_name = 'longitude', lat_name = 'latitude')\n",
    "# print('All NaN? ', np.all(np.isnan(m2)))"
   ]
  },
  {
   "cell_type": "code",
   "execution_count": null,
   "metadata": {},
   "outputs": [],
   "source": [
    "m2.name = 'mask'"
   ]
  },
  {
   "cell_type": "code",
   "execution_count": 10,
   "metadata": {},
   "outputs": [],
   "source": [
    "# serialize for later\n",
    "#m2.to_netcdf(datadir + 'gracemsk.nc')\n",
    "m2 = xr.open_dataset(datadir + '\\\\maskdir\\\\gracemsk.nc')"
   ]
  },
  {
   "cell_type": "code",
   "execution_count": null,
   "metadata": {},
   "outputs": [],
   "source": [
    "m2['mask'].plot(x='longitude',y='latitude')"
   ]
  },
  {
   "cell_type": "code",
   "execution_count": 11,
   "metadata": {},
   "outputs": [],
   "source": [
    "with ProgressBar():\n",
    "    ds2 = ds.groupby(m2['mask']).sum('stacked_north_south_east_west')"
   ]
  },
  {
   "cell_type": "code",
   "execution_count": 13,
   "metadata": {},
   "outputs": [],
   "source": [
    "ds2.coords['mascon'] = ('mask', names[ds2.coords['mask'].values.astype('int')])"
   ]
  },
  {
   "cell_type": "code",
   "execution_count": 21,
   "metadata": {},
   "outputs": [
    {
     "name": "stdout",
     "output_type": "stream",
     "text": [
      "[########################################] | 100% Completed |  1min 14.3s\n",
      "[########################################] | 100% Completed |  1min 14.1s\n",
      "[########################################] | 100% Completed |  1min 14.7s\n",
      "[########################################] | 100% Completed |  1min 14.2s\n",
      "[########################################] | 100% Completed |  1min 14.5s\n",
      "[########################################] | 100% Completed |  1min 12.8s\n"
     ]
    }
   ],
   "source": [
    "with ProgressBar():\n",
    "    df = ds2.to_dataframe()"
   ]
  },
  {
   "cell_type": "code",
   "execution_count": 51,
   "metadata": {},
   "outputs": [],
   "source": [
    "df['waterbal'] = df['Rainf_tavg'] + df['Snowf_tavg'] - (df['Qsb_tavg'] + df['Qsb_tavg'] + df['Qsm_tavg'] + df['Evap_tavg'])\n",
    "df['waterbal_cumulative'] = df.groupby(['mask'])['waterbal'].apply(lambda x: x.cumsum())"
   ]
  },
  {
   "cell_type": "code",
   "execution_count": 85,
   "metadata": {},
   "outputs": [],
   "source": [
    "# serialize for later\n",
    "df.to_pickle(datadir + 'LIS_by_mascon.pkl')"
   ]
  },
  {
   "cell_type": "code",
   "execution_count": 86,
   "metadata": {},
   "outputs": [
    {
     "data": {
      "text/plain": [
       "<matplotlib.axes._subplots.AxesSubplot at 0x23e00fbcbe0>"
      ]
     },
     "execution_count": 86,
     "metadata": {},
     "output_type": "execute_result"
    },
    {
     "data": {
      "image/png": "[encoded data removed]",
      "text/plain": [
       "<matplotlib.figure.Figure at 0x23e00f8ef28>"
      ]
     },
     "metadata": {},
     "output_type": "display_data"
    }
   ],
   "source": [
    "# to select from the multiindex\n",
    "df.iloc[df2.index.get_level_values('mask')==10].plot(y='waterbal_cumulative')"
   ]
  },
  {
   "cell_type": "code",
   "execution_count": 74,
   "metadata": {},
   "outputs": [],
   "source": [
    "n = 10\n",
    "## get the mascon time series\n",
    "t = pd.DataFrame(data = f['time'][\"ref_days_middle\"][0,:])\n",
    "mc = names[numbers == n][0]\n",
    "g = pd.DataFrame(data=soln['cmwe'][mc][:] * 10) # mm we\n",
    "g.index = t[0].apply(lambda x: datetime(2001,12,31) + timedelta(days=x))\n"
   ]
  },
  {
   "cell_type": "code",
   "execution_count": 77,
   "metadata": {},
   "outputs": [
    {
     "data": {
      "text/plain": [
       "<matplotlib.axes._subplots.AxesSubplot at 0x23e32bf7ef0>"
      ]
     },
     "execution_count": 77,
     "metadata": {},
     "output_type": "execute_result"
    },
    {
     "data": {
      "image/png": "[encoded data removed]",
      "text/plain": [
       "<matplotlib.figure.Figure at 0x23e32c21978>"
      ]
     },
     "metadata": {},
     "output_type": "display_data"
    }
   ],
   "source": [
    "g.plot()"
   ]
  },
  {
   "cell_type": "code",
   "execution_count": 101,
   "metadata": {},
   "outputs": [
    {
     "data": {
      "text/plain": [
       "<matplotlib.axes._subplots.AxesSubplot at 0x23e3313e828>"
      ]
     },
     "execution_count": 101,
     "metadata": {},
     "output_type": "execute_result"
    },
    {
     "data": {
      "image/png": "[encoded data removed]",
      "text/plain": [
       "<matplotlib.figure.Figure at 0x23e3310dda0>"
      ]
     },
     "metadata": {},
     "output_type": "display_data"
    }
   ],
   "source": [
    "#ax = g.plot()\n",
    "df['waterbal_cumulative'].iloc[df.index.get_level_values('mask')==10].plot(y='waterbal_cumulative')"
   ]
  }
 ],
 "metadata": {
  "kernelspec": {
   "display_name": "Python 3",
   "language": "python",
   "name": "python3"
  },
  "language_info": {
   "codemirror_mode": {
    "name": "ipython",
    "version": 3
   },
   "file_extension": ".py",
   "mimetype": "text/x-python",
   "name": "python",
   "nbconvert_exporter": "python",
   "pygments_lexer": "ipython3",
   "version": "3.6.3"
  }
 },
 "nbformat": 4,
 "nbformat_minor": 2
}
