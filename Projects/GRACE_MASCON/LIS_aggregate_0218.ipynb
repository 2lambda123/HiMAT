{
 "cells": [
  {
   "cell_type": "markdown",
   "metadata": {},
   "source": [
    "### Code to aggregate NASA LIS data to GRACE mascons"
   ]
  },
  {
   "cell_type": "markdown",
   "metadata": {},
   "source": [
    "### Load the packages"
   ]
  },
  {
   "cell_type": "code",
   "execution_count": 3,
   "metadata": {},
   "outputs": [
    {
     "name": "stderr",
     "output_type": "stream",
     "text": [
      "/home/yingjung_cd/miniconda3/envs/himat/lib/python3.6/importlib/_bootstrap.py:219: RuntimeWarning: numpy.dtype size changed, may indicate binary incompatibility. Expected 96, got 88\n",
      "  return f(*args, **kwds)\n",
      "/home/yingjung_cd/miniconda3/envs/himat/lib/python3.6/importlib/_bootstrap.py:219: RuntimeWarning: numpy.dtype size changed, may indicate binary incompatibility. Expected 88 from C header, got 96 from PyObject\n",
      "  return f(*args, **kwds)\n"
     ]
    }
   ],
   "source": [
    "# Jupter notebook magic\n",
    "%matplotlib inline\n",
    "\n",
    "# Import libraries to work with the data\n",
    "import os\n",
    "import sys\n",
    "import matplotlib \n",
    "import matplotlib.pyplot as plt\n",
    "import numpy as np\n",
    "import scipy\n",
    "from scipy import signal\n",
    "import scipy.optimize\n",
    "from scipy import stats\n",
    "import geopandas as gpd\n",
    "import pandas as pd\n",
    "import s3fs\n",
    "import salem\n",
    "from PyAstronomy import pyasl\n",
    "import xarray as xr\n",
    "from datetime import datetime, timedelta\n",
    "import boto3\n",
    "import botocore\n",
    "import dask.array as da\n",
    "#from dask import compute\n",
    "from dask.diagnostics import ProgressBar\n",
    "    \n",
    "matplotlib.style.use('ggplot')\n",
    "\n",
    "from himatpy.GRACE_MASCON.pygrace import (extract_grace, get_mascon_gdf, trend_analysis, get_cmwe_trend_analysis, select_mascons, aggregate_mascons)\n",
    "\n",
    "import warnings\n",
    "warnings.filterwarnings('ignore')"
   ]
  },
  {
   "cell_type": "markdown",
   "metadata": {},
   "source": [
    "### Open the LIS data"
   ]
  },
  {
   "cell_type": "code",
   "execution_count": 3,
   "metadata": {},
   "outputs": [
    {
     "data": {
      "text/plain": [
       "'/mnt/c/Users/HCD/UW_work/git/HiMAT/Projects/WBM'"
      ]
     },
     "execution_count": 3,
     "metadata": {},
     "output_type": "execute_result"
    }
   ],
   "source": [
    "os.getcwd()"
   ]
  },
  {
   "cell_type": "code",
   "execution_count": 6,
   "metadata": {},
   "outputs": [],
   "source": [
    "datadir = '/mnt/c/Users/HCD/UW_work/git/HiMAT/files/LIS/new/'"
   ]
  },
  {
   "cell_type": "code",
   "execution_count": 7,
   "metadata": {},
   "outputs": [],
   "source": [
    "dgws = xr.open_dataset(datadir+'LISMonthly.nc')"
   ]
  },
  {
   "cell_type": "code",
   "execution_count": 8,
   "metadata": {},
   "outputs": [],
   "source": [
    "dgws_ok=dgws*0.1"
   ]
  },
  {
   "cell_type": "markdown",
   "metadata": {},
   "source": [
    "### Extract the lat, lon from data variables"
   ]
  },
  {
   "cell_type": "code",
   "execution_count": 15,
   "metadata": {},
   "outputs": [],
   "source": [
    "latok=dgws_ok.lat.north_south\n",
    "lonok=dgws_ok.lon.east_west"
   ]
  },
  {
   "cell_type": "code",
   "execution_count": 21,
   "metadata": {},
   "outputs": [],
   "source": [
    "LIS = dgws_ok.assign_coords(lon=lonok)"
   ]
  },
  {
   "cell_type": "code",
   "execution_count": 22,
   "metadata": {},
   "outputs": [],
   "source": [
    "LIS_f=LIS.assign_coords(lat=latok)"
   ]
  },
  {
   "cell_type": "code",
   "execution_count": 23,
   "metadata": {},
   "outputs": [],
   "source": [
    "LIS_f = LIS_f.rename({'north_south':'lat','east_west':'lon'})"
   ]
  },
  {
   "cell_type": "markdown",
   "metadata": {},
   "source": [
    "### Download the GRACE data from S3 bucket"
   ]
  },
  {
   "cell_type": "code",
   "execution_count": null,
   "metadata": {},
   "outputs": [],
   "source": [
    "#import urllib.request\n",
    "#urllib.request.urlretrieve ('https://himat-data.s3.us-west-2.amazonaws.com/GRACE/GSFC.glb.200301_201607_v02.4-ICE6G.h5', '../../files/GRACE/GSFC.glb.200301_201607_v02.4-ICE6G.h5')"
   ]
  },
  {
   "cell_type": "code",
   "execution_count": null,
   "metadata": {},
   "outputs": [],
   "source": [
    "#os.chdir('/mnt/c/Users/HCD/UW_work/git/HiMAT/files/GRACE')"
   ]
  },
  {
   "cell_type": "code",
   "execution_count": 13,
   "metadata": {},
   "outputs": [
    {
     "name": "stdout",
     "output_type": "stream",
     "text": [
      "Data extracted: \n",
      "---\n",
      "Group: mascon\n",
      "---\n",
      "<HDF5 dataset \"area_deg\": shape (1, 41168), type \"<f8\">\n",
      "<HDF5 dataset \"area_km2\": shape (1, 41168), type \"<f8\">\n",
      "<HDF5 dataset \"basin\": shape (1, 41168), type \"<f8\">\n",
      "<HDF5 dataset \"elev_flag\": shape (1, 41168), type \"<f8\">\n",
      "<HDF5 dataset \"lat_center\": shape (1, 41168), type \"<f8\">\n",
      "<HDF5 dataset \"lat_span\": shape (1, 41168), type \"<f8\">\n",
      "<HDF5 dataset \"location\": shape (1, 41168), type \"<f8\">\n",
      "<HDF5 dataset \"lon_center\": shape (1, 41168), type \"<f8\">\n",
      "<HDF5 dataset \"lon_span\": shape (1, 41168), type \"<f8\">\n",
      "---\n",
      "Group: size\n",
      "---\n",
      "<HDF5 dataset \"N_arcs\": shape (1, 1), type \"<f8\">\n",
      "<HDF5 dataset \"N_mascon_times\": shape (1, 1), type \"<f8\">\n",
      "<HDF5 dataset \"N_mascons\": shape (1, 1), type \"<f8\">\n",
      "---\n",
      "Group: solution\n",
      "---\n",
      "<HDF5 dataset \"cmwe\": shape (41168, 148), type \"<f8\">\n",
      "---\n",
      "Group: time\n",
      "---\n",
      "<HDF5 dataset \"list_ref_days_solution\": shape (1, 4128), type \"<f8\">\n",
      "<HDF5 dataset \"n_ref_days_solution\": shape (1, 148), type \"<f8\">\n",
      "<HDF5 dataset \"n_ref_days_window\": shape (1, 148), type \"<f8\">\n",
      "<HDF5 dataset \"ref_days_first\": shape (1, 148), type \"<f8\">\n",
      "<HDF5 dataset \"ref_days_last\": shape (1, 148), type \"<f8\">\n",
      "<HDF5 dataset \"ref_days_middle\": shape (1, 148), type \"<f8\">\n",
      "<HDF5 dataset \"yyyy_doy_yrplot_middle\": shape (3, 148), type \"<f8\">\n",
      "---\n",
      "Group: uncertainty\n",
      "---\n",
      "<HDF5 dataset \"leakage_2sigma\": shape (41168, 148), type \"<f8\">\n",
      "<HDF5 dataset \"leakage_trend\": shape (41168, 148), type \"<f8\">\n",
      "<HDF5 dataset \"noise_2sigma\": shape (41168, 148), type \"<f8\">\n"
     ]
    }
   ],
   "source": [
    "#BUCKET_NAME = 'himat-data' \n",
    "#KEY = 'GRACE/GSFC.glb.200301_201607_v02.4-ICE6G.h5' \n",
    "fileName = '../../files/GRACE/GSFC.glb.200301_201607_v02.4-ICE6G.h5'\n",
    "#s3 = boto3.resource('s3')\n",
    "\n",
    "#try:\n",
    "    #s3.meta.client.download_file(BUCKET_NAME, KEY, fileName)\n",
    "#except botocore.exceptions.ClientError as e:\n",
    "    #if e.response['Error']['Code'] == \"404\":\n",
    "        #print(\"The object does not exist.\")\n",
    "    #else:\n",
    "        #raise\n",
    "        \n",
    "grace_file = os.path.abspath(fileName)\n",
    "f = extract_grace(grace_file)"
   ]
  },
  {
   "cell_type": "code",
   "execution_count": 14,
   "metadata": {},
   "outputs": [
    {
     "name": "stdout",
     "output_type": "stream",
     "text": [
      "There are 41168 Mascons in this dataset.\n"
     ]
    }
   ],
   "source": [
    "mascon = f['mascon']\n",
    "soln = f['solution']\n",
    "time = f['time']\n",
    "\n",
    "mascon_gdf = get_mascon_gdf(mascon)\n",
    "## we need to track mascon numbers later, which we get from the index, so make a new \"mascon\" column\n",
    "mascon_gdf['mascon'] = mascon_gdf.index"
   ]
  },
  {
   "cell_type": "markdown",
   "metadata": {},
   "source": [
    "### Load the shapefile boundary "
   ]
  },
  {
   "cell_type": "code",
   "execution_count": 24,
   "metadata": {},
   "outputs": [],
   "source": [
    "path='/mnt/c/Users/HCD/UW_work/git/HiMAT/files/WBM/Watershed_boundaries/'"
   ]
  },
  {
   "cell_type": "code",
   "execution_count": 25,
   "metadata": {},
   "outputs": [],
   "source": [
    "shdf = salem.read_shapefile(path+'dugwells_districts.shp')\n",
    "LIS_fr= LIS_f.salem.roi(shape=shdf)"
   ]
  },
  {
   "cell_type": "markdown",
   "metadata": {},
   "source": [
    "#### Tidy up the variable names to comply with our function"
   ]
  },
  {
   "cell_type": "code",
   "execution_count": 26,
   "metadata": {},
   "outputs": [],
   "source": [
    "LIS_fr = LIS_fr.rename({'lon':'long'})"
   ]
  },
  {
   "cell_type": "markdown",
   "metadata": {},
   "source": [
    "### Clip the GRACE mascons to the domain of GWA"
   ]
  },
  {
   "cell_type": "code",
   "execution_count": 27,
   "metadata": {},
   "outputs": [],
   "source": [
    "masked_gdf4 = select_mascons(LIS_fr, mascon_gdf)"
   ]
  },
  {
   "cell_type": "markdown",
   "metadata": {},
   "source": [
    "### The main processing step that calculates a mean value across each mascon"
   ]
  },
  {
   "cell_type": "code",
   "execution_count": 28,
   "metadata": {},
   "outputs": [
    {
     "ename": "ValueError",
     "evalue": "all the input array dimensions except for the concatenation axis must match exactly",
     "output_type": "error",
     "traceback": [
      "\u001b[0;31m---------------------------------------------------------------------------\u001b[0m",
      "\u001b[0;31mValueError\u001b[0m                                Traceback (most recent call last)",
      "\u001b[0;32m<ipython-input-28-6bf97e34b27c>\u001b[0m in \u001b[0;36m<module>\u001b[0;34m\u001b[0m\n\u001b[1;32m      1\u001b[0m \u001b[0;32mwith\u001b[0m \u001b[0mProgressBar\u001b[0m\u001b[0;34m(\u001b[0m\u001b[0;34m)\u001b[0m\u001b[0;34m:\u001b[0m\u001b[0;34m\u001b[0m\u001b[0m\n\u001b[0;32m----> 2\u001b[0;31m     \u001b[0magg_data4\u001b[0m \u001b[0;34m=\u001b[0m \u001b[0maggregate_mascons\u001b[0m\u001b[0;34m(\u001b[0m\u001b[0mLIS_fr\u001b[0m\u001b[0;34m,\u001b[0m\u001b[0mmasked_gdf4\u001b[0m\u001b[0;34m,\u001b[0m\u001b[0mscale_factor\u001b[0m\u001b[0;34m=\u001b[0m\u001b[0;36m1\u001b[0m\u001b[0;34m)\u001b[0m\u001b[0;34m\u001b[0m\u001b[0m\n\u001b[0m",
      "\u001b[0;32m/mnt/c/Users/HCD/UW_work/git/HiMAT/himatpy/GRACE_MASCON/pygrace.py\u001b[0m in \u001b[0;36maggregate_mascons\u001b[0;34m(ds, masked_gdf, scale_factor)\u001b[0m\n\u001b[1;32m    278\u001b[0m     \u001b[0magg_list\u001b[0m \u001b[0;34m=\u001b[0m \u001b[0mcompute\u001b[0m\u001b[0;34m(\u001b[0m\u001b[0;34m*\u001b[0m\u001b[0;34m[\u001b[0m\u001b[0;34m[\u001b[0m\u001b[0m__aggregate_mascon\u001b[0m\u001b[0;34m(\u001b[0m\u001b[0mds\u001b[0m\u001b[0;34m,\u001b[0m \u001b[0mgeo\u001b[0m\u001b[0;34m,\u001b[0m \u001b[0mproduct\u001b[0m\u001b[0;34m)\u001b[0m \u001b[0;32mfor\u001b[0m \u001b[0mgeo\u001b[0m \u001b[0;32min\u001b[0m \u001b[0mmascon_geos\u001b[0m\u001b[0;34m]\u001b[0m \u001b[0;32mfor\u001b[0m \u001b[0mproduct\u001b[0m \u001b[0;32min\u001b[0m \u001b[0mproducts\u001b[0m\u001b[0;34m]\u001b[0m\u001b[0;34m)\u001b[0m\u001b[0;34m\u001b[0m\u001b[0m\n\u001b[1;32m    279\u001b[0m     \u001b[0;31m# Reshape aggregations and scale\u001b[0m\u001b[0;34m\u001b[0m\u001b[0;34m\u001b[0m\u001b[0m\n\u001b[0;32m--> 280\u001b[0;31m     \u001b[0magg_flat\u001b[0m \u001b[0;34m=\u001b[0m \u001b[0mnp\u001b[0m\u001b[0;34m.\u001b[0m\u001b[0mconcatenate\u001b[0m\u001b[0;34m(\u001b[0m\u001b[0;34m[\u001b[0m\u001b[0mnp\u001b[0m\u001b[0;34m.\u001b[0m\u001b[0mconcatenate\u001b[0m\u001b[0;34m(\u001b[0m\u001b[0mx\u001b[0m\u001b[0;34m)\u001b[0m \u001b[0;32mfor\u001b[0m \u001b[0mx\u001b[0m \u001b[0;32min\u001b[0m \u001b[0magg_list\u001b[0m\u001b[0;34m]\u001b[0m\u001b[0;34m)\u001b[0m\u001b[0;34m\u001b[0m\u001b[0m\n\u001b[0m\u001b[1;32m    281\u001b[0m     \u001b[0magg_arr\u001b[0m \u001b[0;34m=\u001b[0m \u001b[0magg_flat\u001b[0m\u001b[0;34m.\u001b[0m\u001b[0mreshape\u001b[0m\u001b[0;34m(\u001b[0m\u001b[0mlen\u001b[0m\u001b[0;34m(\u001b[0m\u001b[0mproducts\u001b[0m\u001b[0;34m)\u001b[0m\u001b[0;34m,\u001b[0m \u001b[0mlen\u001b[0m\u001b[0;34m(\u001b[0m\u001b[0mmascon_coords\u001b[0m\u001b[0;34m)\u001b[0m\u001b[0;34m,\u001b[0m \u001b[0mlen\u001b[0m\u001b[0;34m(\u001b[0m\u001b[0mtime_coords\u001b[0m\u001b[0;34m)\u001b[0m\u001b[0;34m)\u001b[0m\u001b[0;34m\u001b[0m\u001b[0m\n\u001b[1;32m    282\u001b[0m     \u001b[0magg_arr\u001b[0m \u001b[0;34m*=\u001b[0m \u001b[0mscale_factor\u001b[0m\u001b[0;34m\u001b[0m\u001b[0m\n",
      "\u001b[0;32m/mnt/c/Users/HCD/UW_work/git/HiMAT/himatpy/GRACE_MASCON/pygrace.py\u001b[0m in \u001b[0;36m<listcomp>\u001b[0;34m(.0)\u001b[0m\n\u001b[1;32m    278\u001b[0m     \u001b[0magg_list\u001b[0m \u001b[0;34m=\u001b[0m \u001b[0mcompute\u001b[0m\u001b[0;34m(\u001b[0m\u001b[0;34m*\u001b[0m\u001b[0;34m[\u001b[0m\u001b[0;34m[\u001b[0m\u001b[0m__aggregate_mascon\u001b[0m\u001b[0;34m(\u001b[0m\u001b[0mds\u001b[0m\u001b[0;34m,\u001b[0m \u001b[0mgeo\u001b[0m\u001b[0;34m,\u001b[0m \u001b[0mproduct\u001b[0m\u001b[0;34m)\u001b[0m \u001b[0;32mfor\u001b[0m \u001b[0mgeo\u001b[0m \u001b[0;32min\u001b[0m \u001b[0mmascon_geos\u001b[0m\u001b[0;34m]\u001b[0m \u001b[0;32mfor\u001b[0m \u001b[0mproduct\u001b[0m \u001b[0;32min\u001b[0m \u001b[0mproducts\u001b[0m\u001b[0;34m]\u001b[0m\u001b[0;34m)\u001b[0m\u001b[0;34m\u001b[0m\u001b[0m\n\u001b[1;32m    279\u001b[0m     \u001b[0;31m# Reshape aggregations and scale\u001b[0m\u001b[0;34m\u001b[0m\u001b[0;34m\u001b[0m\u001b[0m\n\u001b[0;32m--> 280\u001b[0;31m     \u001b[0magg_flat\u001b[0m \u001b[0;34m=\u001b[0m \u001b[0mnp\u001b[0m\u001b[0;34m.\u001b[0m\u001b[0mconcatenate\u001b[0m\u001b[0;34m(\u001b[0m\u001b[0;34m[\u001b[0m\u001b[0mnp\u001b[0m\u001b[0;34m.\u001b[0m\u001b[0mconcatenate\u001b[0m\u001b[0;34m(\u001b[0m\u001b[0mx\u001b[0m\u001b[0;34m)\u001b[0m \u001b[0;32mfor\u001b[0m \u001b[0mx\u001b[0m \u001b[0;32min\u001b[0m \u001b[0magg_list\u001b[0m\u001b[0;34m]\u001b[0m\u001b[0;34m)\u001b[0m\u001b[0;34m\u001b[0m\u001b[0m\n\u001b[0m\u001b[1;32m    281\u001b[0m     \u001b[0magg_arr\u001b[0m \u001b[0;34m=\u001b[0m \u001b[0magg_flat\u001b[0m\u001b[0;34m.\u001b[0m\u001b[0mreshape\u001b[0m\u001b[0;34m(\u001b[0m\u001b[0mlen\u001b[0m\u001b[0;34m(\u001b[0m\u001b[0mproducts\u001b[0m\u001b[0;34m)\u001b[0m\u001b[0;34m,\u001b[0m \u001b[0mlen\u001b[0m\u001b[0;34m(\u001b[0m\u001b[0mmascon_coords\u001b[0m\u001b[0;34m)\u001b[0m\u001b[0;34m,\u001b[0m \u001b[0mlen\u001b[0m\u001b[0;34m(\u001b[0m\u001b[0mtime_coords\u001b[0m\u001b[0;34m)\u001b[0m\u001b[0;34m)\u001b[0m\u001b[0;34m\u001b[0m\u001b[0m\n\u001b[1;32m    282\u001b[0m     \u001b[0magg_arr\u001b[0m \u001b[0;34m*=\u001b[0m \u001b[0mscale_factor\u001b[0m\u001b[0;34m\u001b[0m\u001b[0m\n",
      "\u001b[0;31mValueError\u001b[0m: all the input array dimensions except for the concatenation axis must match exactly"
     ]
    }
   ],
   "source": [
    "with ProgressBar():\n",
    "    agg_data4 = aggregate_mascons(LIS_fr,masked_gdf4,scale_factor=1)"
   ]
  },
  {
   "cell_type": "markdown",
   "metadata": {},
   "source": [
    "### Convert WBM array to Pandas dataframe for plotting"
   ]
  },
  {
   "cell_type": "code",
   "execution_count": null,
   "metadata": {},
   "outputs": [],
   "source": [
    "A3 = agg_data4['data']\n",
    "\n",
    "names = ['products', 'mascons', 'time']\n",
    "index = pd.MultiIndex.from_product([agg_data4[n] for n in names], names=names)\n",
    "df4 = pd.DataFrame({'A3': A3.flatten()}, index=index)['A3']\n",
    "df4 = df4.unstack(level='products').swaplevel().sort_index()\n",
    "df4.columns = agg_data4['products']\n",
    "df4.index.names = ['date','mascon']"
   ]
  },
  {
   "cell_type": "markdown",
   "metadata": {},
   "source": [
    "### Drop the NA values in the new UGWA mascons dataframe"
   ]
  },
  {
   "cell_type": "code",
   "execution_count": null,
   "metadata": {},
   "outputs": [],
   "source": [
    "dfok4=df4.dropna(how='any')"
   ]
  },
  {
   "cell_type": "markdown",
   "metadata": {},
   "source": [
    "### Convert GRACE time series to Pandas dataframe"
   ]
  },
  {
   "cell_type": "code",
   "execution_count": 37,
   "metadata": {},
   "outputs": [],
   "source": [
    "t = pd.DataFrame(data = {\n",
    "    'time': f['time'][\"ref_days_middle\"][0,:]\n",
    "})\n",
    "\n",
    "grc_lst = []\n",
    "for m in agg_data['mascons']:\n",
    "    df = pd.DataFrame(data={\n",
    "        'cmwe': soln['cmwe'][m][:],\n",
    "        'mascon': m\n",
    "    })\n",
    "    df.index = t['time'].apply(lambda x: datetime(2001,12,31) + timedelta(days=x))\n",
    "    grc_lst.append(df)\n",
    "    \n",
    "gracedf = pd.concat(grc_lst)"
   ]
  },
  {
   "cell_type": "code",
   "execution_count": null,
   "metadata": {},
   "outputs": [],
   "source": [
    "print(gracedf)"
   ]
  }
 ],
 "metadata": {
  "kernelspec": {
   "display_name": "Python 3",
   "language": "python",
   "name": "python3"
  },
  "language_info": {
   "codemirror_mode": {
    "name": "ipython",
    "version": 3
   },
   "file_extension": ".py",
   "mimetype": "text/x-python",
   "name": "python",
   "nbconvert_exporter": "python",
   "pygments_lexer": "ipython3",
   "version": "3.6.6"
  }
 },
 "nbformat": 4,
 "nbformat_minor": 2
}
