{
 "cells": [
  {
   "cell_type": "markdown",
   "metadata": {},
   "source": [
    "### Scripts to construct a water balance from LIS ouptut, for GRACE comparison and forward modeling"
   ]
  },
  {
   "cell_type": "code",
   "execution_count": 1,
   "metadata": {
    "collapsed": false
   },
   "outputs": [],
   "source": [
    "# Import the necessary libraries\n",
    "\n",
    "%matplotlib inline\n",
    "import os\n",
    "import sys\n",
    "import datetime\n",
    "\n",
    "import xarray as xr\n",
    "\n",
    "import pandas as pd\n",
    "\n",
    "from dask.diagnostics import ProgressBar\n",
    "\n",
    "import seaborn as sb\n",
    "\n",
    "import matplotlib\n",
    "import matplotlib.pyplot as plt\n",
    "matplotlib.style.use('ggplot')\n",
    "\n",
    "from himatpy.LIS import utils as LISutils\n",
    "\n",
    "import cartopy.crs as ccrs\n",
    "from cartopy.mpl.ticker import LongitudeFormatter, LatitudeFormatter"
   ]
  },
  {
   "cell_type": "code",
   "execution_count": null,
   "metadata": {
    "collapsed": false
   },
   "outputs": [],
   "source": [
    "# Open all files into a single xarray dataset\n",
    "ds = LISutils.get_xr_dataset('/att/pubrepo/hma_data/products/LIS-new/', fname=None, multiple_nc=True)"
   ]
  },
  {
   "cell_type": "code",
   "execution_count": 12,
   "metadata": {
    "collapsed": false
   },
   "outputs": [
    {
     "data": {
      "text/plain": [
       "<xarray.Dataset>\n",
       "Dimensions:           (SnowIce_profiles: 3, SnowLiq_profiles: 3, SnowTProf_profiles: 3, SoilMoist_profiles: 4, SoilTemp_profiles: 4, east_west: 1896, north_south: 1696, time: 5478, z_soil_profiles: 4)\n",
       "Coordinates:\n",
       "  * time              (time) datetime64[ns] 2001-01-01 2001-01-02 2001-01-03 ...\n",
       "Dimensions without coordinates: SnowIce_profiles, SnowLiq_profiles, SnowTProf_profiles, SoilMoist_profiles, SoilTemp_profiles, east_west, north_south, z_soil_profiles\n",
       "Data variables:\n",
       "    lat               (time, north_south, east_west) float64 nan nan nan nan ...\n",
       "    lon               (time, north_south, east_west) float64 nan nan nan nan ...\n",
       "    Swnet_tavg        (time, north_south, east_west) float64 nan nan nan nan ...\n",
       "    Lwnet_tavg        (time, north_south, east_west) float64 nan nan nan nan ...\n",
       "    Qle_tavg          (time, north_south, east_west) float64 nan nan nan nan ...\n",
       "    Qh_tavg           (time, north_south, east_west) float64 nan nan nan nan ...\n",
       "    Qg_tavg           (time, north_south, east_west) float64 nan nan nan nan ...\n",
       "    Snowf_tavg        (time, north_south, east_west) float64 nan nan nan nan ...\n",
       "    Rainf_tavg        (time, north_south, east_west) float64 nan nan nan nan ...\n",
       "    Evap_tavg         (time, north_south, east_west) float64 nan nan nan nan ...\n",
       "    Qs_tavg           (time, north_south, east_west) float64 nan nan nan nan ...\n",
       "    Qsb_tavg          (time, north_south, east_west) float64 nan nan nan nan ...\n",
       "    Qsm_tavg          (time, north_south, east_west) float64 nan nan nan nan ...\n",
       "    VegT_tavg         (time, north_south, east_west) float64 nan nan nan nan ...\n",
       "    AvgSurfT_tavg     (time, north_south, east_west) float64 nan nan nan nan ...\n",
       "    RadT_tavg         (time, north_south, east_west) float64 nan nan nan nan ...\n",
       "    Albedo_tavg       (time, north_south, east_west) float64 nan nan nan nan ...\n",
       "    SWE_tavg          (time, north_south, east_west) float64 nan nan nan nan ...\n",
       "    SnowDepth_tavg    (time, north_south, east_west) float64 nan nan nan nan ...\n",
       "    SnowIce_inst      (time, SnowIce_profiles, north_south, east_west) float64 nan ...\n",
       "    SnowAge_tavg      (time, north_south, east_west) float64 nan nan nan nan ...\n",
       "    SoilMoist_tavg    (time, SoilMoist_profiles, north_south, east_west) float64 nan ...\n",
       "    SoilTemp_tavg     (time, SoilTemp_profiles, north_south, east_west) float64 nan ...\n",
       "    ECanop_tavg       (time, north_south, east_west) float64 nan nan nan nan ...\n",
       "    TVeg_tavg         (time, north_south, east_west) float64 nan nan nan nan ...\n",
       "    ESoil_tavg        (time, north_south, east_west) float64 nan nan nan nan ...\n",
       "    CanopInt_tavg     (time, north_south, east_west) float64 nan nan nan nan ...\n",
       "    SubSnow_tavg      (time, north_south, east_west) float64 nan nan nan nan ...\n",
       "    TWS_tavg          (time, north_south, east_west) float64 nan nan nan nan ...\n",
       "    SnowCover_tavg    (time, north_south, east_west) float64 nan nan nan nan ...\n",
       "    SnowTProf_inst    (time, SnowTProf_profiles, north_south, east_west) float64 nan ...\n",
       "    Wind_f_tavg       (time, north_south, east_west) float64 nan nan nan nan ...\n",
       "    Rainf_f_tavg      (time, north_south, east_west) float64 nan nan nan nan ...\n",
       "    Tair_f_tavg       (time, north_south, east_west) float64 nan nan nan nan ...\n",
       "    Qair_f_tavg       (time, north_south, east_west) float64 nan nan nan nan ...\n",
       "    Psurf_f_tavg      (time, north_south, east_west) float64 nan nan nan nan ...\n",
       "    SWdown_f_tavg     (time, north_south, east_west) float64 nan nan nan nan ...\n",
       "    LWdown_f_tavg     (time, north_south, east_west) float64 nan nan nan nan ...\n",
       "    LAI_tavg          (time, north_south, east_west) float64 nan nan nan nan ...\n",
       "    TotalPrecip_tavg  (time, north_south, east_west) float64 nan nan nan nan ...\n",
       "    ActSnowNL_tavg    (time, north_south, east_west) float64 nan nan nan nan ...\n",
       "    z_soil_inst       (time, z_soil_profiles, north_south, east_west) float64 nan ...\n",
       "    SnowLiq_inst      (time, SnowLiq_profiles, north_south, east_west) float64 nan ...\n",
       "Attributes:\n",
       "    missing_value:           -9999.0\n",
       "    NUM_SOIL_LAYERS:         4\n",
       "    SOIL_LAYER_THICKNESSES:  [ 0.1         0.30000001  0.60000002  1.        ]\n",
       "    title:                   LIS land surface model output\n",
       "    institution:             NASA GSFC\n",
       "    source:                  \n",
       "    history:                 created on date: 2017-03-27T12:27:48.869\n",
       "    references:              Kumar_etal_EMS_2006, Peters-Lidard_etal_ISSE_2007\n",
       "    conventions:             CF-1.6\n",
       "    comment:                 website: http://lis.gsfc.nasa.gov/\n",
       "    MAP_PROJECTION:          EQUIDISTANT CYLINDRICAL\n",
       "    SOUTH_WEST_CORNER_LAT:   22.025\n",
       "    SOUTH_WEST_CORNER_LON:   66.025\n",
       "    DX:                      0.01\n",
       "    DY:                      0.01"
      ]
     },
     "execution_count": 12,
     "metadata": {},
     "output_type": "execute_result"
    }
   ],
   "source": [
    "ds"
   ]
  },
  {
   "cell_type": "code",
   "execution_count": null,
   "metadata": {
    "collapsed": true
   },
   "outputs": [],
   "source": [
    "## FIRST, searlize this to a single netcdf, retaining the daily resolution but keeping only these \n",
    "## variables and doing the unit adjustments:\n",
    "\n",
    "# The variables we want are:\n",
    "\n",
    "{'Qsm_tavg','Rainf_tavg','Qs_tavg','Snowf_tavg','Qsb_tavg','Evap_tavg','TWS_tavg'}\n",
    "\n",
    "# The associated names are:\n",
    "{'Snowmelt','Rainfall','SurfaceRunoff','Snowfall','SubsfcRunoff','Evapotranspiration','TWS'}\n",
    "\n",
    "# multiplication factor for units\n",
    "\n",
    "{864000,864000,864000,864000,864000,864000,0}\n",
    "\n",
    "# attributes for the first 6 variables:\n",
    "\n",
    "{'Daily <snowmelt> in units of mm we', '....'}\n",
    "\n",
    "# attributes for the TWS:\n",
    "\n",
    "{'Daily change in water storage'}"
   ]
  },
  {
   "cell_type": "code",
   "execution_count": null,
   "metadata": {
    "collapsed": false
   },
   "outputs": [],
   "source": [
    "## NEXT calculate monthly sums, e.g.:\n",
    "\n",
    "with ProgressBar():\n",
    "    TWS_monthly = ds['TWS_tavg'].resample('MS', 'time', how = 'sum')\n",
    "\n",
    "# attributes for the first 6 variables:\n",
    "\n",
    "{'Cumulative monthly <snowmelt> in units of mm we','Cumulative monthly ....'}\n",
    "\n",
    "# attributes for TWS:\n",
    "\n",
    "{'Change in monthly water storage'}\n",
    "       \n",
    "# then concatenate all into a single netcdf and serialize to /att/nobackup/aarendt    \n",
    "    \n",
    "        "
   ]
  }
 ],
 "metadata": {
  "kernelspec": {
   "display_name": "Python (himat)",
   "language": "python",
   "name": "himat"
  },
  "language_info": {
   "codemirror_mode": {
    "name": "ipython",
    "version": 3
   },
   "file_extension": ".py",
   "mimetype": "text/x-python",
   "name": "python",
   "nbconvert_exporter": "python",
   "pygments_lexer": "ipython3",
   "version": "3.6.3"
  }
 },
 "nbformat": 4,
 "nbformat_minor": 2
}
