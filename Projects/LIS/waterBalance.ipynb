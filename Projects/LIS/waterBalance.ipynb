{
 "cells": [
  {
   "cell_type": "markdown",
   "metadata": {},
   "source": [
    "### Scripts to construct a water balance from LIS ouptut, for GRACE comparison and forward modeling"
   ]
  },
  {
   "cell_type": "code",
   "execution_count": 1,
   "metadata": {
    "collapsed": false
   },
   "outputs": [],
   "source": [
    "# Import the necessary libraries\n",
    "\n",
    "%matplotlib inline\n",
    "import os\n",
    "import sys\n",
    "import datetime\n",
    "\n",
    "import xarray as xr\n",
    "\n",
    "import pandas as pd\n",
    "\n",
    "from dask.diagnostics import ProgressBar\n",
    "\n",
    "import seaborn as sb\n",
    "\n",
    "import matplotlib\n",
    "import matplotlib.pyplot as plt\n",
    "matplotlib.style.use('ggplot')\n",
    "\n",
    "from himatpy.LIS import utils as LISutils\n",
    "\n",
    "import cartopy.crs as ccrs\n",
    "from cartopy.mpl.ticker import LongitudeFormatter, LatitudeFormatter"
   ]
  },
  {
   "cell_type": "code",
   "execution_count": 2,
   "metadata": {
    "collapsed": false
   },
   "outputs": [],
   "source": [
    "# Open all files into a single xarray dataset\n",
    "ds = LISutils.get_xr_dataset('/att/pubrepo/hma_data/products/LIS-new/', fname=None, multiple_nc=True)"
   ]
  },
  {
   "cell_type": "code",
   "execution_count": null,
   "metadata": {
    "collapsed": false
   },
   "outputs": [],
   "source": [
    "# Searilizing to new NetCDF files to select only the variables we need\n",
    "# had to do this in yearly blocks due to errors in handling that many daily files (an issue with Dask I think)\n",
    "\n",
    "for yr in range(2003,2014):\n",
    "    startDate = datetime.datetime(yr,1,1)\n",
    "    endDate = datetime.datetime(yr,12,31)\n",
    "    ds[['Qsm_tavg','Rainf_tavg','Qs_tavg','Snowf_tavg','Qsb_tavg','Evap_tavg','TWS_tavg']].sel \\\n",
    "    (time = slice('{:{dtfmt}}'.format(startDate, dtfmt='%Y%m%d'), \\\n",
    "                  '{:{dtfmt}}'.format(endDate, dtfmt='%Y%m%d'))).to_netcdf \\\n",
    "    ('/att/nobackup/aarendt/LIS/LIS_{}.nc'.format(yr))\n",
    "    print(yr)"
   ]
  },
  {
   "cell_type": "code",
   "execution_count": null,
   "metadata": {
    "collapsed": true
   },
   "outputs": [],
   "source": [
    "## FIRST, searlize this to a single netcdf, retaining the daily resolution but keeping only these \n",
    "## variables and doing the unit adjustments:\n",
    "\n",
    "# The variables we want are:\n",
    "\n",
    "{'Qsm_tavg','Rainf_tavg','Qs_tavg','Snowf_tavg','Qsb_tavg','Evap_tavg','TWS_tavg'}\n",
    "\n",
    "# The associated names are:\n",
    "{'Snowmelt','Rainfall','SurfaceRunoff','Snowfall','SubsfcRunoff','Evapotranspiration','TWS'}\n",
    "\n",
    "# multiplication factor for units\n",
    "\n",
    "{864000,864000,864000,864000,864000,864000,0}\n",
    "\n",
    "# attributes for the first 6 variables:\n",
    "\n",
    "{'Daily <snowmelt> in units of mm we', '....'}\n",
    "\n",
    "# attributes for the TWS:\n",
    "\n",
    "{'Daily change in water storage'}"
   ]
  },
  {
   "cell_type": "code",
   "execution_count": null,
   "metadata": {
    "collapsed": false
   },
   "outputs": [],
   "source": [
    "## NEXT calculate monthly sums, e.g.:\n",
    "\n",
    "with ProgressBar():\n",
    "    TWS_monthly = ds['TWS_tavg'].resample('MS', 'time', how = 'sum')\n",
    "\n",
    "# attributes for the first 6 variables:\n",
    "\n",
    "{'Cumulative monthly <snowmelt> in units of mm we','Cumulative monthly ....'}\n",
    "\n",
    "# attributes for TWS:\n",
    "\n",
    "{'Change in monthly water storage'}\n",
    "       \n",
    "# then concatenate all into a single netcdf and serialize to /att/nobackup/aarendt    \n",
    "    \n",
    "        "
   ]
  }
 ],
 "metadata": {
  "kernelspec": {
   "display_name": "Python (himat)",
   "language": "python",
   "name": "himat"
  },
  "language_info": {
   "codemirror_mode": {
    "name": "ipython",
    "version": 3
   },
   "file_extension": ".py",
   "mimetype": "text/x-python",
   "name": "python",
   "nbconvert_exporter": "python",
   "pygments_lexer": "ipython3",
   "version": "3.6.3"
  }
 },
 "nbformat": 4,
 "nbformat_minor": 2
}
