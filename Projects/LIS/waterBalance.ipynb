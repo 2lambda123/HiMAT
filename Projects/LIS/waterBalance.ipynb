{
 "cells": [
  {
   "cell_type": "markdown",
   "metadata": {},
   "source": [
    "### Workflow in preprocessing LIS output to construct a water balance for GRACE comparison and forward modeling.\n",
    "\n",
    "by Anthony Arendt and Landung Setiawan"
   ]
  },
  {
   "cell_type": "code",
   "execution_count": 1,
   "metadata": {},
   "outputs": [
    {
     "name": "stdout",
     "output_type": "stream",
     "text": [
      "Xarray version: 0.9.6\n",
      "Pandas version: 0.20.3\n",
      "Matplotlib version: 2.1.0\n",
      "Cartopy version: 0.15.1\n"
     ]
    }
   ],
   "source": [
    "%matplotlib inline\n",
    "import os\n",
    "import sys\n",
    "import datetime\n",
    "import glob\n",
    "import re\n",
    "from collections import OrderedDict\n",
    "\n",
    "import xarray as xr\n",
    "print('Xarray version: {}'.format(xr.__version__))\n",
    "\n",
    "import pandas as pd\n",
    "print('Pandas version: {}'.format(pd.__version__))\n",
    "\n",
    "from dask.diagnostics import ProgressBar\n",
    "\n",
    "import seaborn as sb\n",
    "\n",
    "import matplotlib\n",
    "print('Matplotlib version: {}'.format(matplotlib.__version__))\n",
    "import matplotlib.pyplot as plt\n",
    "matplotlib.style.use('ggplot')\n",
    "\n",
    "from himatpy.LIS import utils as LISutils\n",
    "\n",
    "import cartopy\n",
    "print('Cartopy version: {}'.format(cartopy.__version__))\n",
    "import cartopy.crs as ccrs\n",
    "from cartopy.mpl.ticker import LongitudeFormatter, LatitudeFormatter"
   ]
  },
  {
   "cell_type": "markdown",
   "metadata": {},
   "source": [
    "## Serializing LIS to yearly blocks single netCDF, retaining the daily resolution. \n",
    "\n",
    "Only certain variables are kept and unit adjustments are performed"
   ]
  },
  {
   "cell_type": "code",
   "execution_count": 2,
   "metadata": {},
   "outputs": [],
   "source": [
    "variables = ['Qsm_tavg','Rainf_tavg','Qs_tavg','Snowf_tavg','Qsb_tavg','Evap_tavg','TWS_tavg']"
   ]
  },
  {
   "cell_type": "markdown",
   "metadata": {},
   "source": [
    "The function `process_lis_data` builds of other function within `himatpy.LIS.utils` library to process the data."
   ]
  },
  {
   "cell_type": "code",
   "execution_count": 3,
   "metadata": {},
   "outputs": [
    {
     "name": "stdout",
     "output_type": "stream",
     "text": [
      "\n",
      "    This function reads daily LIS output, selects a subset of variables, and serializes to NetCDF files \n",
      "    with daily resolution and yearly span.\n",
      "    \n",
      "    Parameters\n",
      "    ----------\n",
      "    data_dir : String.\n",
      "        The location of the Raw LIS NetCDF data\n",
      "    nc_path : String.\n",
      "        The location of the output NetCDF.\n",
      "    startyear: Integer.\n",
      "        The year to start processing.\n",
      "    endyear: Integer.\n",
      "        The year to end processing.\n",
      "    **kwargs: Other keyword arguments associated with get_xr_dataset\n",
      "    \n",
      "    Returns\n",
      "    -------\n",
      "    None\n",
      "    \n"
     ]
    }
   ],
   "source": [
    "print(LISutils.process_lis_data.__doc__)"
   ]
  },
  {
   "cell_type": "markdown",
   "metadata": {},
   "source": [
    "**Note: There is a script that will use the `process_lis_data` function above called `LISpreprocess.py`**\n",
    "\n",
    "```bash\n",
    "$python himatpy/LIS/LISpreprocess.py --help\n",
    "usage: LISpreprocess.py [-h] [--startyear STARTYEAR] [--endyear ENDYEAR] [-v] <LISDIR> <OUTDIR>\n",
    "\n",
    "positional arguments:\n",
    "  <LISDIR>              The directory of Raw LIS NetCDF\n",
    "  <OUTDIR>              The directory for the preprocessed data\n",
    "\n",
    "optional arguments:\n",
    "  -h, --help            show this help message and exit\n",
    "  --startyear STARTYEAR\n",
    "                        Specify start year to process. Ex. 2008\n",
    "  --endyear ENDYEAR     Specify end year to process. Ex. 2004\n",
    "  -v, --version         show program's version number and exit\n",
    "```"
   ]
  },
  {
   "cell_type": "markdown",
   "metadata": {},
   "source": [
    "Once the script successfully run, there should be yearly, daily resolution netCDF files."
   ]
  },
  {
   "cell_type": "code",
   "execution_count": 4,
   "metadata": {},
   "outputs": [],
   "source": [
    "yearlydir = '/att/nobackup/lsetiawa/LISYearly/'"
   ]
  },
  {
   "cell_type": "code",
   "execution_count": 5,
   "metadata": {},
   "outputs": [],
   "source": [
    "ds = xr.open_mfdataset(os.path.join(yearlydir, '*.nc'), chunks={'time': 1})"
   ]
  },
  {
   "cell_type": "code",
   "execution_count": 6,
   "metadata": {},
   "outputs": [
    {
     "name": "stdout",
     "output_type": "stream",
     "text": [
      "xarray.Dataset {\n",
      "dimensions:\n",
      "\teast_west = 1896 ;\n",
      "\tnorth_south = 1696 ;\n",
      "\ttime = 5812 ;\n",
      "\n",
      "variables:\n",
      "\tfloat64 longitude(north_south, east_west) ;\n",
      "\tfloat64 latitude(north_south, east_west) ;\n",
      "\tdatetime64[ns] time(time) ;\n",
      "\t\ttime:long_name = time ;\n",
      "\t\ttime:time_increment = 86400 ;\n",
      "\t\ttime:begin_time = 000000 ;\n",
      "\tfloat64 Qsm_tavg(time, north_south, east_west) ;\n",
      "\t\tQsm_tavg:units = mm we ;\n",
      "\t\tQsm_tavg:standard_name = snowmelt ;\n",
      "\t\tQsm_tavg:long_name = Daily snowmelt in units of mm we ;\n",
      "\t\tQsm_tavg:vmin = 0.0 ;\n",
      "\t\tQsm_tavg:vmax = 0.0 ;\n",
      "\tfloat64 Rainf_tavg(time, north_south, east_west) ;\n",
      "\t\tRainf_tavg:units = mm we ;\n",
      "\t\tRainf_tavg:standard_name = precipitation_rate ;\n",
      "\t\tRainf_tavg:long_name = Daily precipitation_rate in units of mm we ;\n",
      "\t\tRainf_tavg:vmin = 0.0 ;\n",
      "\t\tRainf_tavg:vmax = 0.0 ;\n",
      "\tfloat64 Qs_tavg(time, north_south, east_west) ;\n",
      "\t\tQs_tavg:units = mm we ;\n",
      "\t\tQs_tavg:standard_name = surface_runoff_amount ;\n",
      "\t\tQs_tavg:long_name = Daily surface_runoff_amount in units of mm we ;\n",
      "\t\tQs_tavg:vmin = 0.0 ;\n",
      "\t\tQs_tavg:vmax = 0.0 ;\n",
      "\tfloat64 Snowf_tavg(time, north_south, east_west) ;\n",
      "\t\tSnowf_tavg:units = mm we ;\n",
      "\t\tSnowf_tavg:standard_name = snowfall_rate ;\n",
      "\t\tSnowf_tavg:long_name = Daily snowfall_rate in units of mm we ;\n",
      "\t\tSnowf_tavg:vmin = 0.0 ;\n",
      "\t\tSnowf_tavg:vmax = 0.0 ;\n",
      "\tfloat64 Qsb_tavg(time, north_south, east_west) ;\n",
      "\t\tQsb_tavg:units = mm we ;\n",
      "\t\tQsb_tavg:standard_name = subsurface_runoff_amount ;\n",
      "\t\tQsb_tavg:long_name = Daily subsurface_runoff_amount in units of mm we ;\n",
      "\t\tQsb_tavg:vmin = 0.0 ;\n",
      "\t\tQsb_tavg:vmax = 0.0 ;\n",
      "\tfloat64 Evap_tavg(time, north_south, east_west) ;\n",
      "\t\tEvap_tavg:units = mm we ;\n",
      "\t\tEvap_tavg:standard_name = total_evapotranspiration ;\n",
      "\t\tEvap_tavg:long_name = Daily total_evapotranspiration in units of mm we ;\n",
      "\t\tEvap_tavg:vmin = 0.0 ;\n",
      "\t\tEvap_tavg:vmax = 0.0 ;\n",
      "\tfloat64 TWS_tavg(time, north_south, east_west) ;\n",
      "\t\tTWS_tavg:units = mm we ;\n",
      "\t\tTWS_tavg:standard_name = terrestrial_water_storage ;\n",
      "\t\tTWS_tavg:long_name = Daily change in water storage ;\n",
      "\t\tTWS_tavg:vmin = 0.0 ;\n",
      "\t\tTWS_tavg:vmax = 0.0 ;\n",
      "\n",
      "// global attributes:\n",
      "}"
     ]
    }
   ],
   "source": [
    "ds.info()"
   ]
  },
  {
   "cell_type": "code",
   "execution_count": 7,
   "metadata": {},
   "outputs": [
    {
     "name": "stdout",
     "output_type": "stream",
     "text": [
      "Time span: 2001-01-02 to 2016-12-30\n"
     ]
    }
   ],
   "source": [
    "print('Time span: {:%Y-%m-%d} to {:%Y-%m-%d}'.format(pd.to_datetime(ds.time.values.min()), \n",
    "                                                     pd.to_datetime(ds.time.values.max())))"
   ]
  },
  {
   "cell_type": "markdown",
   "metadata": {},
   "source": [
    "## Calculating montly average from yearly, daily resolution netCDF."
   ]
  },
  {
   "cell_type": "code",
   "execution_count": 8,
   "metadata": {},
   "outputs": [],
   "source": [
    "# Location to save the output of the monthly average\n",
    "out_pth = '/att/nobackup/lsetiawa/'"
   ]
  },
  {
   "cell_type": "code",
   "execution_count": 9,
   "metadata": {},
   "outputs": [
    {
     "name": "stdout",
     "output_type": "stream",
     "text": [
      "Exporting /att/nobackup/lsetiawa/LISMonthly.nc\n",
      "[########################################] | 100% Completed | 32min 14.0s\n"
     ]
    }
   ],
   "source": [
    "monthlyds = LISutils.get_monthly_avg(ds, export_nc=True, out_pth=out_pth)"
   ]
  },
  {
   "cell_type": "code",
   "execution_count": 10,
   "metadata": {},
   "outputs": [],
   "source": [
    "# Checking the netCDF File quickly\n",
    "dsout = xr.open_dataset(os.path.join(out_pth, 'LISMonthly.nc'))"
   ]
  },
  {
   "cell_type": "code",
   "execution_count": 11,
   "metadata": {},
   "outputs": [
    {
     "name": "stdout",
     "output_type": "stream",
     "text": [
      "xarray.Dataset {\n",
      "dimensions:\n",
      "\teast_west = 1896 ;\n",
      "\tnorth_south = 1696 ;\n",
      "\ttime = 192 ;\n",
      "\n",
      "variables:\n",
      "\tfloat64 longitude(north_south, east_west) ;\n",
      "\tfloat64 latitude(north_south, east_west) ;\n",
      "\tdatetime64[ns] time(time) ;\n",
      "\tfloat64 Qsm_tavg(time, north_south, east_west) ;\n",
      "\t\tQsm_tavg:units = mm we ;\n",
      "\t\tQsm_tavg:standard_name = snowmelt ;\n",
      "\t\tQsm_tavg:long_name = Cumulative monthly snowmelt in units of mm we ;\n",
      "\t\tQsm_tavg:vmin = 0.0 ;\n",
      "\t\tQsm_tavg:vmax = 0.0 ;\n",
      "\tfloat64 Rainf_tavg(time, north_south, east_west) ;\n",
      "\t\tRainf_tavg:units = mm we ;\n",
      "\t\tRainf_tavg:standard_name = precipitation_rate ;\n",
      "\t\tRainf_tavg:long_name = Cumulative monthly precipitation_rate in units of mm we ;\n",
      "\t\tRainf_tavg:vmin = 0.0 ;\n",
      "\t\tRainf_tavg:vmax = 0.0 ;\n",
      "\tfloat64 Qs_tavg(time, north_south, east_west) ;\n",
      "\t\tQs_tavg:units = mm we ;\n",
      "\t\tQs_tavg:standard_name = surface_runoff_amount ;\n",
      "\t\tQs_tavg:long_name = Cumulative monthly surface_runoff_amount in units of mm we ;\n",
      "\t\tQs_tavg:vmin = 0.0 ;\n",
      "\t\tQs_tavg:vmax = 0.0 ;\n",
      "\tfloat64 Snowf_tavg(time, north_south, east_west) ;\n",
      "\t\tSnowf_tavg:units = mm we ;\n",
      "\t\tSnowf_tavg:standard_name = snowfall_rate ;\n",
      "\t\tSnowf_tavg:long_name = Cumulative monthly snowfall_rate in units of mm we ;\n",
      "\t\tSnowf_tavg:vmin = 0.0 ;\n",
      "\t\tSnowf_tavg:vmax = 0.0 ;\n",
      "\tfloat64 Qsb_tavg(time, north_south, east_west) ;\n",
      "\t\tQsb_tavg:units = mm we ;\n",
      "\t\tQsb_tavg:standard_name = subsurface_runoff_amount ;\n",
      "\t\tQsb_tavg:long_name = Cumulative monthly subsurface_runoff_amount in units of mm we ;\n",
      "\t\tQsb_tavg:vmin = 0.0 ;\n",
      "\t\tQsb_tavg:vmax = 0.0 ;\n",
      "\tfloat64 Evap_tavg(time, north_south, east_west) ;\n",
      "\t\tEvap_tavg:units = mm we ;\n",
      "\t\tEvap_tavg:standard_name = total_evapotranspiration ;\n",
      "\t\tEvap_tavg:long_name = Cumulative monthly total_evapotranspiration in units of mm we ;\n",
      "\t\tEvap_tavg:vmin = 0.0 ;\n",
      "\t\tEvap_tavg:vmax = 0.0 ;\n",
      "\tfloat64 TWS_tavg(time, north_south, east_west) ;\n",
      "\t\tTWS_tavg:units = mm we ;\n",
      "\t\tTWS_tavg:standard_name = terrestrial_water_storage ;\n",
      "\t\tTWS_tavg:long_name = Cumulative in monthly water storage ;\n",
      "\t\tTWS_tavg:vmin = 0.0 ;\n",
      "\t\tTWS_tavg:vmax = 0.0 ;\n",
      "\n",
      "// global attributes:\n",
      "}"
     ]
    }
   ],
   "source": [
    "dsout.info()"
   ]
  },
  {
   "cell_type": "markdown",
   "metadata": {},
   "source": [
    "### This workflow continues on another notebook [>>](../GRACE_MASCON/GRACE_LandInformationSystem.ipynb)"
   ]
  }
 ],
 "metadata": {
  "kernelspec": {
   "display_name": "Python 2",
   "language": "python",
   "name": "python2"
  },
  "language_info": {
   "codemirror_mode": {
    "name": "ipython",
    "version": 3
   },
   "file_extension": ".py",
   "mimetype": "text/x-python",
   "name": "python",
   "nbconvert_exporter": "python",
   "pygments_lexer": "ipython3",
   "version": "3.6.3"
  }
 },
 "nbformat": 4,
 "nbformat_minor": 2
}
